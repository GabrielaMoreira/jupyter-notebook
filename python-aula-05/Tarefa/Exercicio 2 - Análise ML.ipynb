{
 "cells": [
  {
   "cell_type": "markdown",
   "metadata": {},
   "source": [
    "## Exercício 2 - Análise Data Scraping ML"
   ]
  },
  {
   "cell_type": "markdown",
   "metadata": {},
   "source": [
    "### A partir do arquivo *ml_4k.csv*:"
   ]
  },
  {
   "cell_type": "markdown",
   "metadata": {},
   "source": [
    "### 1 - Importe as bibliotecas"
   ]
  },
  {
   "cell_type": "code",
   "execution_count": 38,
   "metadata": {},
   "outputs": [],
   "source": [
    "import pandas as pd\n",
    "import numpy as np\n",
    "import seaborn as sns\n",
    "import matplotlib.pyplot as plt\n",
    "from scipy import stats\n",
    "from matplotlib import colors"
   ]
  },
  {
   "cell_type": "markdown",
   "metadata": {},
   "source": [
    "### 2 - Leitura do arquivo em um Dataframe"
   ]
  },
  {
   "cell_type": "code",
   "execution_count": 2,
   "metadata": {},
   "outputs": [
    {
     "data": {
      "text/html": [
       "<div>\n",
       "<style scoped>\n",
       "    .dataframe tbody tr th:only-of-type {\n",
       "        vertical-align: middle;\n",
       "    }\n",
       "\n",
       "    .dataframe tbody tr th {\n",
       "        vertical-align: top;\n",
       "    }\n",
       "\n",
       "    .dataframe thead th {\n",
       "        text-align: right;\n",
       "    }\n",
       "</style>\n",
       "<table border=\"1\" class=\"dataframe\">\n",
       "  <thead>\n",
       "    <tr style=\"text-align: right;\">\n",
       "      <th></th>\n",
       "      <th>Unnamed: 0</th>\n",
       "      <th>title</th>\n",
       "      <th>brand</th>\n",
       "      <th>model</th>\n",
       "      <th>size</th>\n",
       "      <th>price</th>\n",
       "    </tr>\n",
       "  </thead>\n",
       "  <tbody>\n",
       "    <tr>\n",
       "      <th>0</th>\n",
       "      <td>0</td>\n",
       "      <td>Smart Tv Philips 70 4k 70pug7625/78, Wifi, 3 H...</td>\n",
       "      <td>Philips</td>\n",
       "      <td>70PUG7625/78</td>\n",
       "      <td>70</td>\n",
       "      <td>6199</td>\n",
       "    </tr>\n",
       "    <tr>\n",
       "      <th>1</th>\n",
       "      <td>1</td>\n",
       "      <td>Tv LG 55'' 55us660h0sd Uhd 4k Ips Com Hotel Pr...</td>\n",
       "      <td>LG</td>\n",
       "      <td>55US660H0SD.BWZ</td>\n",
       "      <td>55</td>\n",
       "      <td>2999</td>\n",
       "    </tr>\n",
       "    <tr>\n",
       "      <th>2</th>\n",
       "      <td>2</td>\n",
       "      <td>Smart TV Samsung Series 8 UN55TU8000GXZD UDH 4...</td>\n",
       "      <td>Samsung</td>\n",
       "      <td>UN55TU8000</td>\n",
       "      <td>55</td>\n",
       "      <td>4299</td>\n",
       "    </tr>\n",
       "    <tr>\n",
       "      <th>3</th>\n",
       "      <td>3</td>\n",
       "      <td>Smart TV TCL 50P715 DLED 4K 50\" 100V/240V</td>\n",
       "      <td>TCL</td>\n",
       "      <td>50P715</td>\n",
       "      <td>50</td>\n",
       "      <td>2799</td>\n",
       "    </tr>\n",
       "    <tr>\n",
       "      <th>4</th>\n",
       "      <td>4</td>\n",
       "      <td>Smart Tv Philips 55 4k 55pug7625/78, Wifi, 3 H...</td>\n",
       "      <td>Philips</td>\n",
       "      <td>55PUG7625/78</td>\n",
       "      <td>55</td>\n",
       "      <td>3799</td>\n",
       "    </tr>\n",
       "  </tbody>\n",
       "</table>\n",
       "</div>"
      ],
      "text/plain": [
       "   Unnamed: 0                                              title    brand  \\\n",
       "0           0  Smart Tv Philips 70 4k 70pug7625/78, Wifi, 3 H...  Philips   \n",
       "1           1  Tv LG 55'' 55us660h0sd Uhd 4k Ips Com Hotel Pr...       LG   \n",
       "2           2  Smart TV Samsung Series 8 UN55TU8000GXZD UDH 4...  Samsung   \n",
       "3           3          Smart TV TCL 50P715 DLED 4K 50\" 100V/240V      TCL   \n",
       "4           4  Smart Tv Philips 55 4k 55pug7625/78, Wifi, 3 H...  Philips   \n",
       "\n",
       "             model  size  price  \n",
       "0     70PUG7625/78    70   6199  \n",
       "1  55US660H0SD.BWZ    55   2999  \n",
       "2       UN55TU8000    55   4299  \n",
       "3           50P715    50   2799  \n",
       "4     55PUG7625/78    55   3799  "
      ]
     },
     "execution_count": 2,
     "metadata": {},
     "output_type": "execute_result"
    }
   ],
   "source": [
    "ml = pd.read_csv('ml_4k.csv')\n",
    "ml.head()"
   ]
  },
  {
   "cell_type": "markdown",
   "metadata": {},
   "source": [
    "### 3 - Análise preliminar do Dataframe"
   ]
  },
  {
   "cell_type": "code",
   "execution_count": 3,
   "metadata": {},
   "outputs": [
    {
     "name": "stdout",
     "output_type": "stream",
     "text": [
      "<class 'pandas.core.frame.DataFrame'>\n",
      "RangeIndex: 2038 entries, 0 to 2037\n",
      "Data columns (total 6 columns):\n",
      " #   Column      Non-Null Count  Dtype \n",
      "---  ------      --------------  ----- \n",
      " 0   Unnamed: 0  2038 non-null   int64 \n",
      " 1   title       2038 non-null   object\n",
      " 2   brand       2038 non-null   object\n",
      " 3   model       2038 non-null   object\n",
      " 4   size        2038 non-null   int64 \n",
      " 5   price       2038 non-null   int64 \n",
      "dtypes: int64(3), object(3)\n",
      "memory usage: 95.7+ KB\n"
     ]
    }
   ],
   "source": [
    "ml.info()"
   ]
  },
  {
   "cell_type": "markdown",
   "metadata": {},
   "source": [
    "### 4 - Elimine as informações desnecessárias para as análises"
   ]
  },
  {
   "cell_type": "code",
   "execution_count": 4,
   "metadata": {},
   "outputs": [
    {
     "data": {
      "text/html": [
       "<div>\n",
       "<style scoped>\n",
       "    .dataframe tbody tr th:only-of-type {\n",
       "        vertical-align: middle;\n",
       "    }\n",
       "\n",
       "    .dataframe tbody tr th {\n",
       "        vertical-align: top;\n",
       "    }\n",
       "\n",
       "    .dataframe thead th {\n",
       "        text-align: right;\n",
       "    }\n",
       "</style>\n",
       "<table border=\"1\" class=\"dataframe\">\n",
       "  <thead>\n",
       "    <tr style=\"text-align: right;\">\n",
       "      <th></th>\n",
       "      <th>title</th>\n",
       "      <th>brand</th>\n",
       "      <th>model</th>\n",
       "      <th>size</th>\n",
       "      <th>price</th>\n",
       "    </tr>\n",
       "  </thead>\n",
       "  <tbody>\n",
       "    <tr>\n",
       "      <th>0</th>\n",
       "      <td>Smart Tv Philips 70 4k 70pug7625/78, Wifi, 3 H...</td>\n",
       "      <td>Philips</td>\n",
       "      <td>70PUG7625/78</td>\n",
       "      <td>70</td>\n",
       "      <td>6199</td>\n",
       "    </tr>\n",
       "    <tr>\n",
       "      <th>1</th>\n",
       "      <td>Tv LG 55'' 55us660h0sd Uhd 4k Ips Com Hotel Pr...</td>\n",
       "      <td>LG</td>\n",
       "      <td>55US660H0SD.BWZ</td>\n",
       "      <td>55</td>\n",
       "      <td>2999</td>\n",
       "    </tr>\n",
       "    <tr>\n",
       "      <th>2</th>\n",
       "      <td>Smart TV Samsung Series 8 UN55TU8000GXZD UDH 4...</td>\n",
       "      <td>Samsung</td>\n",
       "      <td>UN55TU8000</td>\n",
       "      <td>55</td>\n",
       "      <td>4299</td>\n",
       "    </tr>\n",
       "    <tr>\n",
       "      <th>3</th>\n",
       "      <td>Smart TV TCL 50P715 DLED 4K 50\" 100V/240V</td>\n",
       "      <td>TCL</td>\n",
       "      <td>50P715</td>\n",
       "      <td>50</td>\n",
       "      <td>2799</td>\n",
       "    </tr>\n",
       "    <tr>\n",
       "      <th>4</th>\n",
       "      <td>Smart Tv Philips 55 4k 55pug7625/78, Wifi, 3 H...</td>\n",
       "      <td>Philips</td>\n",
       "      <td>55PUG7625/78</td>\n",
       "      <td>55</td>\n",
       "      <td>3799</td>\n",
       "    </tr>\n",
       "  </tbody>\n",
       "</table>\n",
       "</div>"
      ],
      "text/plain": [
       "                                               title    brand  \\\n",
       "0  Smart Tv Philips 70 4k 70pug7625/78, Wifi, 3 H...  Philips   \n",
       "1  Tv LG 55'' 55us660h0sd Uhd 4k Ips Com Hotel Pr...       LG   \n",
       "2  Smart TV Samsung Series 8 UN55TU8000GXZD UDH 4...  Samsung   \n",
       "3          Smart TV TCL 50P715 DLED 4K 50\" 100V/240V      TCL   \n",
       "4  Smart Tv Philips 55 4k 55pug7625/78, Wifi, 3 H...  Philips   \n",
       "\n",
       "             model  size  price  \n",
       "0     70PUG7625/78    70   6199  \n",
       "1  55US660H0SD.BWZ    55   2999  \n",
       "2       UN55TU8000    55   4299  \n",
       "3           50P715    50   2799  \n",
       "4     55PUG7625/78    55   3799  "
      ]
     },
     "execution_count": 4,
     "metadata": {},
     "output_type": "execute_result"
    }
   ],
   "source": [
    "ml.drop(['Unnamed: 0'], axis=1, inplace = True)\n",
    "ml.head()"
   ]
  },
  {
   "cell_type": "markdown",
   "metadata": {},
   "source": [
    "### 5 - Análises"
   ]
  },
  {
   "cell_type": "markdown",
   "metadata": {},
   "source": [
    "#### - Qual o maior valor de uma TV 4K no ML?\n",
    "#### - Qual o valor médio de uma TV 4K no ML?\n",
    "#### - Qual o menor de uma TV 4K no ML?"
   ]
  },
  {
   "cell_type": "code",
   "execution_count": 5,
   "metadata": {},
   "outputs": [
    {
     "name": "stdout",
     "output_type": "stream",
     "text": [
      "Maior valor: 82612\n",
      "Valor medio: 2400.7173699705595\n",
      "Menor valor: 7\n"
     ]
    }
   ],
   "source": [
    "print('Maior valor: ' + str(ml['price'].max()))\n",
    "print('Valor medio: ' + str(ml['price'].mean()))\n",
    "print('Menor valor: ' + str(ml['price'].min()))"
   ]
  },
  {
   "cell_type": "code",
   "execution_count": 6,
   "metadata": {},
   "outputs": [
    {
     "data": {
      "text/html": [
       "<div>\n",
       "<style scoped>\n",
       "    .dataframe tbody tr th:only-of-type {\n",
       "        vertical-align: middle;\n",
       "    }\n",
       "\n",
       "    .dataframe tbody tr th {\n",
       "        vertical-align: top;\n",
       "    }\n",
       "\n",
       "    .dataframe thead th {\n",
       "        text-align: right;\n",
       "    }\n",
       "</style>\n",
       "<table border=\"1\" class=\"dataframe\">\n",
       "  <thead>\n",
       "    <tr style=\"text-align: right;\">\n",
       "      <th></th>\n",
       "      <th>title</th>\n",
       "      <th>brand</th>\n",
       "      <th>model</th>\n",
       "      <th>size</th>\n",
       "      <th>price</th>\n",
       "    </tr>\n",
       "  </thead>\n",
       "  <tbody>\n",
       "    <tr>\n",
       "      <th>943</th>\n",
       "      <td>Tv LG 43 Led 4k</td>\n",
       "      <td>LG</td>\n",
       "      <td>43UF6900</td>\n",
       "      <td>43</td>\n",
       "      <td>7</td>\n",
       "    </tr>\n",
       "  </tbody>\n",
       "</table>\n",
       "</div>"
      ],
      "text/plain": [
       "               title brand     model  size  price\n",
       "943  Tv LG 43 Led 4k    LG  43UF6900    43      7"
      ]
     },
     "execution_count": 6,
     "metadata": {},
     "output_type": "execute_result"
    }
   ],
   "source": [
    "ml[ml[\"price\"] == 7]"
   ]
  },
  {
   "cell_type": "markdown",
   "metadata": {},
   "source": [
    "### Note que há uma variação muito grande de valores, que são denominados dados atípicos ou _outliers_. Descubra uma forma de descobrir e eliminar esses dados de sua amostra de dados."
   ]
  },
  {
   "cell_type": "code",
   "execution_count": 7,
   "metadata": {},
   "outputs": [
    {
     "data": {
      "text/plain": [
       "[Text(1, 0, 'price')]"
      ]
     },
     "execution_count": 7,
     "metadata": {},
     "output_type": "execute_result"
    },
    {
     "data": {
      "image/png": "[encoded data removed]",
      "text/plain": [
       "<Figure size 360x288 with 1 Axes>"
      ]
     },
     "metadata": {
      "needs_background": "light"
     },
     "output_type": "display_data"
    }
   ],
   "source": [
    "fig = plt.figure(figsize=(5,4))\n",
    "eixo = fig.add_axes([0,0,1,1])\n",
    "\n",
    "eixo.boxplot(ml[\"price\"], patch_artist=True)\n",
    "eixo.set_title(\"Box Plot\", fontsize=15, pad=10)\n",
    "eixo.set_xticklabels([\"price\"])"
   ]
  },
  {
   "cell_type": "markdown",
   "metadata": {},
   "source": [
    "#### Nota:\n",
    "foi eliminado dados que estavam muito distantes da média geral de valores (2400,00)\n",
    "realizando testes, foi eleminados televisores com valor maiores de 5000,00 e menores que 800,00"
   ]
  },
  {
   "cell_type": "code",
   "execution_count": 8,
   "metadata": {},
   "outputs": [],
   "source": [
    "ml_out = ml.query(\"price > 801 & price < 5001\")"
   ]
  },
  {
   "cell_type": "code",
   "execution_count": 9,
   "metadata": {},
   "outputs": [
    {
     "data": {
      "text/plain": [
       "[Text(1, 0, 'price')]"
      ]
     },
     "execution_count": 9,
     "metadata": {},
     "output_type": "execute_result"
    },
    {
     "data": {
      "image/png": "[encoded data removed]",
      "text/plain": [
       "<Figure size 360x288 with 1 Axes>"
      ]
     },
     "metadata": {
      "needs_background": "light"
     },
     "output_type": "display_data"
    }
   ],
   "source": [
    "fig = plt.figure(figsize=(5,4))\n",
    "eixo = fig.add_axes([0,0,1,1])\n",
    "\n",
    "eixo.boxplot(ml_out[\"price\"], patch_artist=True)\n",
    "eixo.set_title(\"Box Plot\", fontsize=15, pad=10)\n",
    "eixo.set_xticklabels([\"price\"])"
   ]
  },
  {
   "cell_type": "markdown",
   "metadata": {},
   "source": [
    "### Com o dataframe já livre de outliers:"
   ]
  },
  {
   "cell_type": "markdown",
   "metadata": {},
   "source": [
    "### - Quais são os 5 principais fabricantes (baseado na quantidade de anúncios de cada fabricante)"
   ]
  },
  {
   "cell_type": "code",
   "execution_count": 10,
   "metadata": {},
   "outputs": [
    {
     "data": {
      "text/plain": [
       "LG                  279\n",
       "Samsung             272\n",
       "TCL                  88\n",
       "Philco               48\n",
       "Philips              43\n",
       "Semp                 24\n",
       "Sony                 19\n",
       "HQ                   10\n",
       "Multilaser            6\n",
       "Panasonic             5\n",
       "Semp Toshiba          4\n",
       "Aoc Linha Marrom      3\n",
       "PHILCO SOUND          3\n",
       "CCE                   2\n",
       "Semp TCL              2\n",
       "Apple                 1\n",
       "JVC                   1\n",
       "AOC                   1\n",
       "Name: brand, dtype: int64"
      ]
     },
     "execution_count": 10,
     "metadata": {},
     "output_type": "execute_result"
    }
   ],
   "source": [
    "ml_out['brand'].value_counts()"
   ]
  },
  {
   "cell_type": "markdown",
   "metadata": {},
   "source": [
    "#### Nota:\n",
    "Principais fabricantes: LG, Samsung, TCL, Philco, Philips"
   ]
  },
  {
   "cell_type": "markdown",
   "metadata": {},
   "source": [
    "### - Quantos anúncios estão disponíveis desses fabricantes?"
   ]
  },
  {
   "cell_type": "markdown",
   "metadata": {},
   "source": [
    "LG      = 278 anúncios.\n",
    "Samsung = 272 anúncios.\n",
    "TCL     = 088 anúncios.\n",
    "Philco  = 048 anúncios.\n",
    "Philips = 043 anúncios."
   ]
  },
  {
   "cell_type": "markdown",
   "metadata": {},
   "source": [
    "### - Reduza o dataframe para os registros desses fabricantes apenas:"
   ]
  },
  {
   "cell_type": "code",
   "execution_count": 11,
   "metadata": {},
   "outputs": [
    {
     "data": {
      "text/html": [
       "<div>\n",
       "<style scoped>\n",
       "    .dataframe tbody tr th:only-of-type {\n",
       "        vertical-align: middle;\n",
       "    }\n",
       "\n",
       "    .dataframe tbody tr th {\n",
       "        vertical-align: top;\n",
       "    }\n",
       "\n",
       "    .dataframe thead th {\n",
       "        text-align: right;\n",
       "    }\n",
       "</style>\n",
       "<table border=\"1\" class=\"dataframe\">\n",
       "  <thead>\n",
       "    <tr style=\"text-align: right;\">\n",
       "      <th></th>\n",
       "      <th>title</th>\n",
       "      <th>brand</th>\n",
       "      <th>model</th>\n",
       "      <th>size</th>\n",
       "      <th>price</th>\n",
       "    </tr>\n",
       "  </thead>\n",
       "  <tbody>\n",
       "    <tr>\n",
       "      <th>1</th>\n",
       "      <td>Tv LG 55'' 55us660h0sd Uhd 4k Ips Com Hotel Pr...</td>\n",
       "      <td>LG</td>\n",
       "      <td>55US660H0SD.BWZ</td>\n",
       "      <td>55</td>\n",
       "      <td>2999</td>\n",
       "    </tr>\n",
       "    <tr>\n",
       "      <th>2</th>\n",
       "      <td>Smart TV Samsung Series 8 UN55TU8000GXZD UDH 4...</td>\n",
       "      <td>Samsung</td>\n",
       "      <td>UN55TU8000</td>\n",
       "      <td>55</td>\n",
       "      <td>4299</td>\n",
       "    </tr>\n",
       "    <tr>\n",
       "      <th>3</th>\n",
       "      <td>Smart TV TCL 50P715 DLED 4K 50\" 100V/240V</td>\n",
       "      <td>TCL</td>\n",
       "      <td>50P715</td>\n",
       "      <td>50</td>\n",
       "      <td>2799</td>\n",
       "    </tr>\n",
       "    <tr>\n",
       "      <th>4</th>\n",
       "      <td>Smart Tv Philips 55 4k 55pug7625/78, Wifi, 3 H...</td>\n",
       "      <td>Philips</td>\n",
       "      <td>55PUG7625/78</td>\n",
       "      <td>55</td>\n",
       "      <td>3799</td>\n",
       "    </tr>\n",
       "    <tr>\n",
       "      <th>5</th>\n",
       "      <td>Smart TV TCL 65P715 LED 4K 65\" 100V/240V</td>\n",
       "      <td>TCL</td>\n",
       "      <td>65P715</td>\n",
       "      <td>65</td>\n",
       "      <td>4499</td>\n",
       "    </tr>\n",
       "    <tr>\n",
       "      <th>6</th>\n",
       "      <td>Smart TV LG AI ThinQ 55UN731C0SC LED 4K 55\" 10...</td>\n",
       "      <td>LG</td>\n",
       "      <td>55UN731C</td>\n",
       "      <td>55</td>\n",
       "      <td>3399</td>\n",
       "    </tr>\n",
       "    <tr>\n",
       "      <th>8</th>\n",
       "      <td>Smart TV Philips 6600 Series 58PUG6654/78 LED ...</td>\n",
       "      <td>Philips</td>\n",
       "      <td>58PUG6654</td>\n",
       "      <td>58</td>\n",
       "      <td>3399</td>\n",
       "    </tr>\n",
       "    <tr>\n",
       "      <th>9</th>\n",
       "      <td>Smart TV Samsung UN50TU8000GXZD LED 4K 50\"</td>\n",
       "      <td>Samsung</td>\n",
       "      <td>UN50TU8000</td>\n",
       "      <td>50</td>\n",
       "      <td>3616</td>\n",
       "    </tr>\n",
       "    <tr>\n",
       "      <th>10</th>\n",
       "      <td>Smart TV Philips 6600 Series 50PUG6654/78 LED ...</td>\n",
       "      <td>Philips</td>\n",
       "      <td>50PUG6654</td>\n",
       "      <td>50</td>\n",
       "      <td>2699</td>\n",
       "    </tr>\n",
       "    <tr>\n",
       "      <th>11</th>\n",
       "      <td>Smart TV LG AI ThinQ 43UN7300PSC LED 4K 43\" 10...</td>\n",
       "      <td>LG</td>\n",
       "      <td>43UN7300</td>\n",
       "      <td>43</td>\n",
       "      <td>2599</td>\n",
       "    </tr>\n",
       "  </tbody>\n",
       "</table>\n",
       "</div>"
      ],
      "text/plain": [
       "                                                title    brand  \\\n",
       "1   Tv LG 55'' 55us660h0sd Uhd 4k Ips Com Hotel Pr...       LG   \n",
       "2   Smart TV Samsung Series 8 UN55TU8000GXZD UDH 4...  Samsung   \n",
       "3           Smart TV TCL 50P715 DLED 4K 50\" 100V/240V      TCL   \n",
       "4   Smart Tv Philips 55 4k 55pug7625/78, Wifi, 3 H...  Philips   \n",
       "5            Smart TV TCL 65P715 LED 4K 65\" 100V/240V      TCL   \n",
       "6   Smart TV LG AI ThinQ 55UN731C0SC LED 4K 55\" 10...       LG   \n",
       "8   Smart TV Philips 6600 Series 58PUG6654/78 LED ...  Philips   \n",
       "9          Smart TV Samsung UN50TU8000GXZD LED 4K 50\"  Samsung   \n",
       "10  Smart TV Philips 6600 Series 50PUG6654/78 LED ...  Philips   \n",
       "11  Smart TV LG AI ThinQ 43UN7300PSC LED 4K 43\" 10...       LG   \n",
       "\n",
       "              model  size  price  \n",
       "1   55US660H0SD.BWZ    55   2999  \n",
       "2        UN55TU8000    55   4299  \n",
       "3            50P715    50   2799  \n",
       "4      55PUG7625/78    55   3799  \n",
       "5            65P715    65   4499  \n",
       "6          55UN731C    55   3399  \n",
       "8         58PUG6654    58   3399  \n",
       "9        UN50TU8000    50   3616  \n",
       "10        50PUG6654    50   2699  \n",
       "11         43UN7300    43   2599  "
      ]
     },
     "execution_count": 11,
     "metadata": {},
     "output_type": "execute_result"
    }
   ],
   "source": [
    "ml_brand = ml_out.query(\"brand == 'LG' | brand == 'Samsung' | brand == 'TCL' | brand == 'Philco' | brand == 'Philips' \")\n",
    "ml_brand.head(10)"
   ]
  },
  {
   "cell_type": "markdown",
   "metadata": {},
   "source": [
    "### - Qual o tamanho da tela com o maior número de anúncios?"
   ]
  },
  {
   "cell_type": "code",
   "execution_count": 12,
   "metadata": {},
   "outputs": [
    {
     "data": {
      "text/plain": [
       "55    206\n",
       "50    199\n",
       "65    120\n",
       "43     53\n",
       "75     47\n",
       "58     33\n",
       "60     30\n",
       "70     18\n",
       "49     14\n",
       "40      5\n",
       "48      2\n",
       "24      1\n",
       "62      1\n",
       "84      1\n",
       "Name: size, dtype: int64"
      ]
     },
     "execution_count": 12,
     "metadata": {},
     "output_type": "execute_result"
    }
   ],
   "source": [
    "ml_brand['size'].value_counts()"
   ]
  },
  {
   "cell_type": "markdown",
   "metadata": {},
   "source": [
    "#### Nota:\n",
    "Tela de 55 polegadas contém maior numero de anúncios."
   ]
  },
  {
   "cell_type": "markdown",
   "metadata": {},
   "source": [
    "### - Dessas TV's com o maior número de anúncios, qual o fabricante e o modelo da TV mais cara?"
   ]
  },
  {
   "cell_type": "code",
   "execution_count": 16,
   "metadata": {},
   "outputs": [
    {
     "data": {
      "text/html": [
       "<div>\n",
       "<style scoped>\n",
       "    .dataframe tbody tr th:only-of-type {\n",
       "        vertical-align: middle;\n",
       "    }\n",
       "\n",
       "    .dataframe tbody tr th {\n",
       "        vertical-align: top;\n",
       "    }\n",
       "\n",
       "    .dataframe thead th {\n",
       "        text-align: right;\n",
       "    }\n",
       "</style>\n",
       "<table border=\"1\" class=\"dataframe\">\n",
       "  <thead>\n",
       "    <tr style=\"text-align: right;\">\n",
       "      <th></th>\n",
       "      <th>title</th>\n",
       "      <th>brand</th>\n",
       "      <th>model</th>\n",
       "      <th>size</th>\n",
       "      <th>price</th>\n",
       "    </tr>\n",
       "  </thead>\n",
       "  <tbody>\n",
       "    <tr>\n",
       "      <th>827</th>\n",
       "      <td>Tv Oled55b7p LG 4k Uhd Dolby Atmos - Vitrine</td>\n",
       "      <td>LG</td>\n",
       "      <td>OLED55B7P</td>\n",
       "      <td>55</td>\n",
       "      <td>5000</td>\n",
       "    </tr>\n",
       "  </tbody>\n",
       "</table>\n",
       "</div>"
      ],
      "text/plain": [
       "                                            title brand      model  size  \\\n",
       "827  Tv Oled55b7p LG 4k Uhd Dolby Atmos - Vitrine    LG  OLED55B7P    55   \n",
       "\n",
       "     price  \n",
       "827   5000  "
      ]
     },
     "execution_count": 16,
     "metadata": {},
     "output_type": "execute_result"
    }
   ],
   "source": [
    "max_price = ml_brand[\"price\"].max()\n",
    "ml_brand[(ml_brand[\"price\"] == max_price) & (ml_brand[\"size\"] == 55)]"
   ]
  },
  {
   "cell_type": "markdown",
   "metadata": {},
   "source": [
    "### - E da TV mais barata?"
   ]
  },
  {
   "cell_type": "code",
   "execution_count": 20,
   "metadata": {},
   "outputs": [
    {
     "data": {
      "text/html": [
       "<div>\n",
       "<style scoped>\n",
       "    .dataframe tbody tr th:only-of-type {\n",
       "        vertical-align: middle;\n",
       "    }\n",
       "\n",
       "    .dataframe tbody tr th {\n",
       "        vertical-align: top;\n",
       "    }\n",
       "\n",
       "    .dataframe thead th {\n",
       "        text-align: right;\n",
       "    }\n",
       "</style>\n",
       "<table border=\"1\" class=\"dataframe\">\n",
       "  <thead>\n",
       "    <tr style=\"text-align: right;\">\n",
       "      <th></th>\n",
       "      <th>title</th>\n",
       "      <th>brand</th>\n",
       "      <th>model</th>\n",
       "      <th>size</th>\n",
       "      <th>price</th>\n",
       "    </tr>\n",
       "  </thead>\n",
       "  <tbody>\n",
       "    <tr>\n",
       "      <th>1300</th>\n",
       "      <td>Smart Tv LG Ai Thinq Oled55cxpsa 4k 55  100v/240v</td>\n",
       "      <td>LG</td>\n",
       "      <td>OLED55CX</td>\n",
       "      <td>55</td>\n",
       "      <td>809</td>\n",
       "    </tr>\n",
       "    <tr>\n",
       "      <th>1309</th>\n",
       "      <td>Smart Tv Samsung Un55tu8000gxzd Udh 4k 55  100...</td>\n",
       "      <td>Samsung</td>\n",
       "      <td>UN55TU8000</td>\n",
       "      <td>55</td>\n",
       "      <td>809</td>\n",
       "    </tr>\n",
       "    <tr>\n",
       "      <th>1312</th>\n",
       "      <td>Smart Tv Samsung Series Business Lh55bethvggxz...</td>\n",
       "      <td>Samsung</td>\n",
       "      <td>LH55BETHVG</td>\n",
       "      <td>55</td>\n",
       "      <td>809</td>\n",
       "    </tr>\n",
       "    <tr>\n",
       "      <th>1322</th>\n",
       "      <td>Smart Tv Tcl P-series 55p715 Dled 4k 55  100v/...</td>\n",
       "      <td>TCL</td>\n",
       "      <td>55P715</td>\n",
       "      <td>55</td>\n",
       "      <td>809</td>\n",
       "    </tr>\n",
       "  </tbody>\n",
       "</table>\n",
       "</div>"
      ],
      "text/plain": [
       "                                                  title    brand       model  \\\n",
       "1300  Smart Tv LG Ai Thinq Oled55cxpsa 4k 55  100v/240v       LG    OLED55CX   \n",
       "1309  Smart Tv Samsung Un55tu8000gxzd Udh 4k 55  100...  Samsung  UN55TU8000   \n",
       "1312  Smart Tv Samsung Series Business Lh55bethvggxz...  Samsung  LH55BETHVG   \n",
       "1322  Smart Tv Tcl P-series 55p715 Dled 4k 55  100v/...      TCL      55P715   \n",
       "\n",
       "      size  price  \n",
       "1300    55    809  \n",
       "1309    55    809  \n",
       "1312    55    809  \n",
       "1322    55    809  "
      ]
     },
     "execution_count": 20,
     "metadata": {},
     "output_type": "execute_result"
    }
   ],
   "source": [
    "min_price = ml_brand[\"price\"].min()\n",
    "ml_brand[(ml_brand[\"price\"] == min_price)  & (ml_brand[\"size\"] == 55)]"
   ]
  },
  {
   "cell_type": "markdown",
   "metadata": {},
   "source": [
    "### - Das TV's de 65\", qual a média da valor por fabricante? Mostre graficamente."
   ]
  },
  {
   "cell_type": "code",
   "execution_count": 22,
   "metadata": {},
   "outputs": [
    {
     "data": {
      "text/html": [
       "<div>\n",
       "<style scoped>\n",
       "    .dataframe tbody tr th:only-of-type {\n",
       "        vertical-align: middle;\n",
       "    }\n",
       "\n",
       "    .dataframe tbody tr th {\n",
       "        vertical-align: top;\n",
       "    }\n",
       "\n",
       "    .dataframe thead th {\n",
       "        text-align: right;\n",
       "    }\n",
       "</style>\n",
       "<table border=\"1\" class=\"dataframe\">\n",
       "  <thead>\n",
       "    <tr style=\"text-align: right;\">\n",
       "      <th></th>\n",
       "      <th>title</th>\n",
       "      <th>brand</th>\n",
       "      <th>model</th>\n",
       "      <th>size</th>\n",
       "      <th>price</th>\n",
       "    </tr>\n",
       "  </thead>\n",
       "  <tbody>\n",
       "    <tr>\n",
       "      <th>5</th>\n",
       "      <td>Smart TV TCL 65P715 LED 4K 65\" 100V/240V</td>\n",
       "      <td>TCL</td>\n",
       "      <td>65P715</td>\n",
       "      <td>65</td>\n",
       "      <td>4499</td>\n",
       "    </tr>\n",
       "    <tr>\n",
       "      <th>16</th>\n",
       "      <td>Smart TV Samsung Series Business LH65BETHVGGXZ...</td>\n",
       "      <td>Samsung</td>\n",
       "      <td>LH65BETHVG</td>\n",
       "      <td>65</td>\n",
       "      <td>4499</td>\n",
       "    </tr>\n",
       "    <tr>\n",
       "      <th>17</th>\n",
       "      <td>Samsung Smart Tv Crystal Uhd Tu7020 4k 2020 65...</td>\n",
       "      <td>Samsung</td>\n",
       "      <td>TU7020</td>\n",
       "      <td>65</td>\n",
       "      <td>4699</td>\n",
       "    </tr>\n",
       "    <tr>\n",
       "      <th>23</th>\n",
       "      <td>Smart TV LG 65UN731C LED 4K 65\" 100V/240V</td>\n",
       "      <td>LG</td>\n",
       "      <td>65UN731C</td>\n",
       "      <td>65</td>\n",
       "      <td>4499</td>\n",
       "    </tr>\n",
       "    <tr>\n",
       "      <th>26</th>\n",
       "      <td>Smart TV Philips 6700 Series 65PUG6794/78 LED ...</td>\n",
       "      <td>Philips</td>\n",
       "      <td>65PUG6794</td>\n",
       "      <td>65</td>\n",
       "      <td>4099</td>\n",
       "    </tr>\n",
       "  </tbody>\n",
       "</table>\n",
       "</div>"
      ],
      "text/plain": [
       "                                                title    brand       model  \\\n",
       "5            Smart TV TCL 65P715 LED 4K 65\" 100V/240V      TCL      65P715   \n",
       "16  Smart TV Samsung Series Business LH65BETHVGGXZ...  Samsung  LH65BETHVG   \n",
       "17  Samsung Smart Tv Crystal Uhd Tu7020 4k 2020 65...  Samsung      TU7020   \n",
       "23          Smart TV LG 65UN731C LED 4K 65\" 100V/240V       LG    65UN731C   \n",
       "26  Smart TV Philips 6700 Series 65PUG6794/78 LED ...  Philips   65PUG6794   \n",
       "\n",
       "    size  price  \n",
       "5     65   4499  \n",
       "16    65   4499  \n",
       "17    65   4699  \n",
       "23    65   4499  \n",
       "26    65   4099  "
      ]
     },
     "execution_count": 22,
     "metadata": {},
     "output_type": "execute_result"
    }
   ],
   "source": [
    "ml_65 =  ml_brand.query(\"size == 65 \")\n",
    "ml_65.head()"
   ]
  },
  {
   "cell_type": "code",
   "execution_count": 35,
   "metadata": {},
   "outputs": [
    {
     "data": {
      "text/plain": [
       "brand\n",
       "LG         2741.772727\n",
       "Philco      839.000000\n",
       "Philips    4257.666667\n",
       "Samsung    2796.511111\n",
       "TCL        3255.916667\n",
       "Name: price, dtype: float64"
      ]
     },
     "execution_count": 35,
     "metadata": {},
     "output_type": "execute_result"
    }
   ],
   "source": [
    "ml_65.groupby('brand')['price'].mean()"
   ]
  },
  {
   "cell_type": "code",
   "execution_count": 37,
   "metadata": {},
   "outputs": [
    {
     "data": {
      "image/png": "[encoded data removed]",
      "text/plain": [
       "<Figure size 360x288 with 1 Axes>"
      ]
     },
     "metadata": {
      "needs_background": "light"
     },
     "output_type": "display_data"
    }
   ],
   "source": [
    "fig = plt.figure(figsize=(5,4))\n",
    "eixo = fig.add_axes([0,0,1,1])\n",
    "\n",
    "eixo.hist(ml_65.groupby('brand')['price'].mean())\n",
    "eixo.set_title(\"Histogram\", fontsize=15, pad=10)\n",
    "eixo.grid(True)"
   ]
  },
  {
   "cell_type": "markdown",
   "metadata": {},
   "source": [
    "### - Qual marca oferece o maior número de anúncios de TV's de 65\" de um único modelo? Qual modelo?"
   ]
  },
  {
   "cell_type": "code",
   "execution_count": 47,
   "metadata": {},
   "outputs": [
    {
     "data": {
      "text/plain": [
       "title                                                     brand    model        size  price\n",
       "Smart Tv LG Ai Thinq Oled65c9psa 4k 65  100v/240v         LG       15996576186  65    829      9\n",
       "Smart Tv Led Tcl 65 P715 4k Uhd Hdmi Usb Netflix Youtube  TCL      65P715       65    4499     4\n",
       "Samsung Smart Tv Crystal Uhd Tu7020 4k 2020 65 Bluetooth  Samsung  TU7020       65    4699     4\n",
       "Smart Tv LG Ai Thinq 65un7310psc Led 4k 65  100v/240v     LG       65UN7310     65    3699     4\n",
       "Smart Tv LG 65un731c Led 4k 65  100v/240v                 LG       65UN731C     65    2499     3\n",
       "                                                                                              ..\n",
       "Smart Tv LG Ai Thinq 65un7100psa Led 4k 65  100v/240v     LG       65UN7100     65    4072     1\n",
       "                                                                                      3509     1\n",
       "Smart Tv LG Ai Thinq 65nano86sna Led 4k 65  100v/240v     LG       65NANO86     65    4900     1\n",
       "Smart Tv LG 65un731c Led 4k 65  100v/240v                 LG       65UN731C     65    4356     1\n",
       "Tv Un65ru7100 Tela Quebrada                               Samsung  UN65RU7100   65    1200     1\n",
       "Length: 82, dtype: int64"
      ]
     },
     "execution_count": 47,
     "metadata": {},
     "output_type": "execute_result"
    }
   ],
   "source": [
    "ml_65[(ml_65[\"size\"] == 65)].value_counts()"
   ]
  },
  {
   "cell_type": "markdown",
   "metadata": {},
   "source": [
    "#### Nota\n",
    "Marca LG - Modelo 15996576186 - 9 anuncios"
   ]
  },
  {
   "cell_type": "code",
   "execution_count": 56,
   "metadata": {},
   "outputs": [
    {
     "data": {
      "text/html": [
       "<div>\n",
       "<style scoped>\n",
       "    .dataframe tbody tr th:only-of-type {\n",
       "        vertical-align: middle;\n",
       "    }\n",
       "\n",
       "    .dataframe tbody tr th {\n",
       "        vertical-align: top;\n",
       "    }\n",
       "\n",
       "    .dataframe thead th {\n",
       "        text-align: right;\n",
       "    }\n",
       "</style>\n",
       "<table border=\"1\" class=\"dataframe\">\n",
       "  <thead>\n",
       "    <tr style=\"text-align: right;\">\n",
       "      <th></th>\n",
       "      <th>title</th>\n",
       "      <th>brand</th>\n",
       "      <th>model</th>\n",
       "      <th>size</th>\n",
       "      <th>price</th>\n",
       "    </tr>\n",
       "  </thead>\n",
       "  <tbody>\n",
       "    <tr>\n",
       "      <th>207</th>\n",
       "      <td>Smart Tv LG Led 55  Uhd 4k 55um7520psb</td>\n",
       "      <td>LG</td>\n",
       "      <td>55UM7520</td>\n",
       "      <td>55</td>\n",
       "      <td>2700</td>\n",
       "    </tr>\n",
       "    <tr>\n",
       "      <th>432</th>\n",
       "      <td>Tv LG 4k + Inteligência Facial + Hdr Ativo</td>\n",
       "      <td>LG</td>\n",
       "      <td>55UM7520PSB</td>\n",
       "      <td>55</td>\n",
       "      <td>2400</td>\n",
       "    </tr>\n",
       "    <tr>\n",
       "      <th>590</th>\n",
       "      <td>Tv Samsung 4k Qled 55  Modelo Qn55q80ragxzd Te...</td>\n",
       "      <td>Samsung</td>\n",
       "      <td>QN55Q80R</td>\n",
       "      <td>55</td>\n",
       "      <td>2500</td>\n",
       "    </tr>\n",
       "    <tr>\n",
       "      <th>721</th>\n",
       "      <td>Smart Tv LG Ai Thinq 55 Led 4k 55</td>\n",
       "      <td>LG</td>\n",
       "      <td>55UN731C</td>\n",
       "      <td>55</td>\n",
       "      <td>2700</td>\n",
       "    </tr>\n",
       "    <tr>\n",
       "      <th>796</th>\n",
       "      <td>Smart TV Samsung Series 7 UN55RU7100GXZD LED 4...</td>\n",
       "      <td>Samsung</td>\n",
       "      <td>UN55RU7100</td>\n",
       "      <td>55</td>\n",
       "      <td>2379</td>\n",
       "    </tr>\n",
       "    <tr>\n",
       "      <th>821</th>\n",
       "      <td>Smart Tv Samsung Séries 8 Un55tu8000gxzd Led 4...</td>\n",
       "      <td>Samsung</td>\n",
       "      <td>UN55TU8000</td>\n",
       "      <td>55</td>\n",
       "      <td>2689</td>\n",
       "    </tr>\n",
       "    <tr>\n",
       "      <th>928</th>\n",
       "      <td>Smart Tv LG Ai Thinq 55un731c0sc Led 4k 55  10...</td>\n",
       "      <td>LG</td>\n",
       "      <td>55UN731C</td>\n",
       "      <td>55</td>\n",
       "      <td>2222</td>\n",
       "    </tr>\n",
       "    <tr>\n",
       "      <th>929</th>\n",
       "      <td>Smart Tv LG Ai Thinq 55un731c0sc Led 4k 55  10...</td>\n",
       "      <td>LG</td>\n",
       "      <td>55UN731C</td>\n",
       "      <td>55</td>\n",
       "      <td>2600</td>\n",
       "    </tr>\n",
       "    <tr>\n",
       "      <th>930</th>\n",
       "      <td>Smart Tv LG Ai Thinq Led 4k 55  100v/240v</td>\n",
       "      <td>LG</td>\n",
       "      <td>55UN731C</td>\n",
       "      <td>55</td>\n",
       "      <td>2399</td>\n",
       "    </tr>\n",
       "    <tr>\n",
       "      <th>1024</th>\n",
       "      <td>Smart Tv LG Ai Thinq Led 4k 55  100v/240v</td>\n",
       "      <td>LG</td>\n",
       "      <td>55UN731C</td>\n",
       "      <td>55</td>\n",
       "      <td>2399</td>\n",
       "    </tr>\n",
       "    <tr>\n",
       "      <th>1187</th>\n",
       "      <td>Smart Tv 55 Samsung Uhd</td>\n",
       "      <td>Samsung</td>\n",
       "      <td>UN55TU8000</td>\n",
       "      <td>55</td>\n",
       "      <td>2500</td>\n",
       "    </tr>\n",
       "    <tr>\n",
       "      <th>1706</th>\n",
       "      <td>Smart Tv LG Ai Thinq Led 4k 55  100v/240v</td>\n",
       "      <td>LG</td>\n",
       "      <td>55UN731C</td>\n",
       "      <td>55</td>\n",
       "      <td>2399</td>\n",
       "    </tr>\n",
       "    <tr>\n",
       "      <th>1747</th>\n",
       "      <td>Smart Tv Samsung Series Q Qn55q70tagxzd Qled 4...</td>\n",
       "      <td>Samsung</td>\n",
       "      <td>QN55Q70T</td>\n",
       "      <td>55</td>\n",
       "      <td>2499</td>\n",
       "    </tr>\n",
       "    <tr>\n",
       "      <th>1774</th>\n",
       "      <td>Smart Tv Samsung Series Q Qn55q70tagxzd Qled 4...</td>\n",
       "      <td>Samsung</td>\n",
       "      <td>QN55Q70T</td>\n",
       "      <td>55</td>\n",
       "      <td>2499</td>\n",
       "    </tr>\n",
       "  </tbody>\n",
       "</table>\n",
       "</div>"
      ],
      "text/plain": [
       "                                                  title    brand        model  \\\n",
       "207              Smart Tv LG Led 55  Uhd 4k 55um7520psb       LG     55UM7520   \n",
       "432          Tv LG 4k + Inteligência Facial + Hdr Ativo       LG  55UM7520PSB   \n",
       "590   Tv Samsung 4k Qled 55  Modelo Qn55q80ragxzd Te...  Samsung     QN55Q80R   \n",
       "721                   Smart Tv LG Ai Thinq 55 Led 4k 55       LG     55UN731C   \n",
       "796   Smart TV Samsung Series 7 UN55RU7100GXZD LED 4...  Samsung   UN55RU7100   \n",
       "821   Smart Tv Samsung Séries 8 Un55tu8000gxzd Led 4...  Samsung   UN55TU8000   \n",
       "928   Smart Tv LG Ai Thinq 55un731c0sc Led 4k 55  10...       LG     55UN731C   \n",
       "929   Smart Tv LG Ai Thinq 55un731c0sc Led 4k 55  10...       LG     55UN731C   \n",
       "930           Smart Tv LG Ai Thinq Led 4k 55  100v/240v       LG     55UN731C   \n",
       "1024          Smart Tv LG Ai Thinq Led 4k 55  100v/240v       LG     55UN731C   \n",
       "1187                            Smart Tv 55 Samsung Uhd  Samsung   UN55TU8000   \n",
       "1706          Smart Tv LG Ai Thinq Led 4k 55  100v/240v       LG     55UN731C   \n",
       "1747  Smart Tv Samsung Series Q Qn55q70tagxzd Qled 4...  Samsung     QN55Q70T   \n",
       "1774  Smart Tv Samsung Series Q Qn55q70tagxzd Qled 4...  Samsung     QN55Q70T   \n",
       "\n",
       "      size  price  \n",
       "207     55   2700  \n",
       "432     55   2400  \n",
       "590     55   2500  \n",
       "721     55   2700  \n",
       "796     55   2379  \n",
       "821     55   2689  \n",
       "928     55   2222  \n",
       "929     55   2600  \n",
       "930     55   2399  \n",
       "1024    55   2399  \n",
       "1187    55   2500  \n",
       "1706    55   2399  \n",
       "1747    55   2499  \n",
       "1774    55   2499  "
      ]
     },
     "execution_count": 56,
     "metadata": {},
     "output_type": "execute_result"
    }
   ],
   "source": [
    "ml_elegiveis = ml_brand[(ml_brand[\"size\"] == 55) & ((ml_brand['brand'] == 'LG') | (ml_brand['brand'] == 'Samsung')) & ((ml_brand['price'] > 2000) & (ml_brand['price'] < 2800))]\n",
    "ml_elegiveis.head(14)"
   ]
  },
  {
   "cell_type": "markdown",
   "metadata": {},
   "source": [
    "### - Baseado nos dados que você possui, qual marca e modelo de TV 4K recomendaria a aquisição? Justifique sua recomendação."
   ]
  },
  {
   "cell_type": "markdown",
   "metadata": {},
   "source": [
    "#### Observações:\n",
    "\n",
    "Levando a quantidade de anúncios por marcas, polegadas e média de preços:\n",
    "- valor : 2400,00\n",
    "- marca: LG ou Samsung\n",
    "- polegadas: 55\"\n",
    "\n",
    "Recomendaria qualquer uma das 5 opções listadas acima (linha 207, 432, 590, 721, 796 e 928 do dataset 'ml_elegiveis')\n",
    "\n",
    "Particularmente (questão puramente de gosto) prefiro a marca Samsung.\n",
    "Logo adiquiriria a linha 590:\n",
    "- Tv Samsung 4k Qled 55 - Samsung - QN55Q80R - 55\" - $2500"
   ]
  },
  {
   "cell_type": "code",
   "execution_count": null,
   "metadata": {},
   "outputs": [],
   "source": []
  }
 ],
 "metadata": {
  "kernelspec": {
   "display_name": "Python 3",
   "language": "python",
   "name": "python3"
  },
  "language_info": {
   "codemirror_mode": {
    "name": "ipython",
    "version": 3
   },
   "file_extension": ".py",
   "mimetype": "text/x-python",
   "name": "python",
   "nbconvert_exporter": "python",
   "pygments_lexer": "ipython3",
   "version": "3.9.2"
  }
 },
 "nbformat": 4,
 "nbformat_minor": 2
}
