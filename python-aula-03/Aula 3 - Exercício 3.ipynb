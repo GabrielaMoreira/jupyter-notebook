{
 "cells": [
  {
   "cell_type": "markdown",
   "metadata": {},
   "source": [
    "## Lista Exercícios 3"
   ]
  },
  {
   "cell_type": "code",
   "execution_count": 2,
   "metadata": {},
   "outputs": [],
   "source": [
    "import numpy as np"
   ]
  },
  {
   "cell_type": "markdown",
   "metadata": {},
   "source": [
    "## Exercício 1\n",
    "\n",
    "Matriz Identidade\n",
    "\n",
    "Seja M uma matriz quadrada de ordem n. A matriz M é chamada de Matriz Identidade de ordem n (indicada por In) quando os elementos da diagonal principal são todos iguais a 1 e os elementos restantes são iguais a zero.\n",
    "\n",
    "**Desenvolva** uma função que retorne a matriz identidade de dimensão n.\n",
    "\n",
    "Exemplo de matriz identidade de dimensão 3x3:\n",
    "```\n",
    "array([[1, 0, 0],\n",
    "       [0, 1, 0],\n",
    "       [0, 0, 1]])\n",
    "```\n",
    "\n",
    "Exemplo de matriz identidade de dimensão 5x5:\n",
    "```\n",
    "array([[1, 0, 0, 0, 0],\n",
    "       [0, 1, 0, 0, 0],\n",
    "       [0, 0, 1, 0, 0],\n",
    "       [0, 0, 0, 1, 0],\n",
    "       [0, 0, 0, 0, 1]])\n",
    "```    \n"
   ]
  },
  {
   "cell_type": "code",
   "execution_count": 4,
   "metadata": {},
   "outputs": [
    {
     "name": "stdout",
     "output_type": "stream",
     "text": [
      "[[1. 0. 0. 0. 0.]\n",
      " [0. 1. 0. 0. 0.]\n",
      " [0. 0. 1. 0. 0.]\n",
      " [0. 0. 0. 1. 0.]\n",
      " [0. 0. 0. 0. 1.]]\n",
      "\n",
      "[[0. 0. 0. 0. 0.]\n",
      " [0. 0. 0. 0. 0.]\n",
      " [0. 0. 0. 0. 0.]\n",
      " [0. 0. 0. 0. 0.]\n",
      " [0. 0. 0. 0. 0.]]\n"
     ]
    }
   ],
   "source": [
    "num_quadrado = 5\n",
    "itens = num_quadrado ** 2\n",
    "vetor = np.zeros(itens).reshape((num_quadrado, num_quadrado))\n",
    "\n",
    "for i in range(0, num_quadrado):\n",
    "    vetor[i][i] = 1\n",
    "\n",
    "print(vetor)\n",
    "print()\n",
    "arr = np.zeros((5,5))\n",
    "print(arr)"
   ]
  },
  {
   "cell_type": "markdown",
   "metadata": {},
   "source": [
    "## Exercício 2\n",
    "\n",
    "Considere os arrays a e b, descubra os índices dos elementos com o mesmo valor."
   ]
  },
  {
   "cell_type": "code",
   "execution_count": 77,
   "metadata": {},
   "outputs": [],
   "source": [
    "a = np.array([1,2,3,2,3,4,3,4,5,6])\n",
    "b = np.array([7,2,10,2,7,4,9,4,9,8])\n",
    "\n",
    "a.sort()\n",
    "b.sort()"
   ]
  },
  {
   "cell_type": "code",
   "execution_count": 78,
   "metadata": {},
   "outputs": [
    {
     "name": "stdout",
     "output_type": "stream",
     "text": [
      "[2. 4. 5. 7.]\n"
     ]
    }
   ],
   "source": [
    "vectorA = np.array([])\n",
    "\n",
    "for i in range(1,10):\n",
    "    if(a[i] == a[i-1]):\n",
    "        vectorA = np.append(vectorA,i)\n",
    "        \n",
    "print(vectorA)"
   ]
  },
  {
   "cell_type": "code",
   "execution_count": 79,
   "metadata": {},
   "outputs": [
    {
     "name": "stdout",
     "output_type": "stream",
     "text": [
      "[1. 3. 5. 8.]\n"
     ]
    }
   ],
   "source": [
    "vectorB = np.array([])\n",
    "\n",
    "for i in range(1,10):\n",
    "    if(b[i] == b[i-1]):\n",
    "        vectorB = np.append(vectorB,i)\n",
    "        \n",
    "print(vectorB)"
   ]
  },
  {
   "cell_type": "code",
   "execution_count": 6,
   "metadata": {},
   "outputs": [
    {
     "data": {
      "text/plain": [
       "(array([1, 3, 5, 7], dtype=int64),)"
      ]
     },
     "execution_count": 6,
     "metadata": {},
     "output_type": "execute_result"
    }
   ],
   "source": [
    "a1 = np.array([1,2,3,2,3,4,3,4,5,6])\n",
    "b1 = np.array([7,2,10,2,7,4,9,4,9,8])\n",
    "\n",
    "np.where(a1 == b1)"
   ]
  },
  {
   "cell_type": "markdown",
   "metadata": {},
   "source": [
    "## Exercício 3\n",
    "\n",
    "Crie um array de 2 dimensões (5 X 3) contendo números aleatórios decimais entre 5 e 10."
   ]
  },
  {
   "cell_type": "code",
   "execution_count": 33,
   "metadata": {},
   "outputs": [
    {
     "data": {
      "text/plain": [
       "array([[8, 5, 7],\n",
       "       [9, 7, 7],\n",
       "       [7, 7, 6],\n",
       "       [5, 5, 9],\n",
       "       [8, 9, 7]])"
      ]
     },
     "execution_count": 33,
     "metadata": {},
     "output_type": "execute_result"
    }
   ],
   "source": [
    "vetor2 = np.random.randint(5,10, [5,3])\n",
    "vetor2"
   ]
  },
  {
   "cell_type": "markdown",
   "metadata": {},
   "source": [
    "## Exercício 4\n",
    "\n",
    "Dado o array a, efetue a divisão do menor valor pelo maior valor de cada linha."
   ]
  },
  {
   "cell_type": "code",
   "execution_count": 30,
   "metadata": {},
   "outputs": [
    {
     "data": {
      "text/plain": [
       "array([[9, 9, 4, 8],\n",
       "       [8, 1, 5, 3],\n",
       "       [6, 3, 3, 3],\n",
       "       [2, 1, 9, 5],\n",
       "       [1, 7, 3, 5]])"
      ]
     },
     "execution_count": 30,
     "metadata": {},
     "output_type": "execute_result"
    }
   ],
   "source": [
    "np.random.seed(100)\n",
    "vetor3 = np.random.randint(1,10, [5,4])\n",
    "vetor3"
   ]
  },
  {
   "cell_type": "code",
   "execution_count": 52,
   "metadata": {},
   "outputs": [
    {
     "name": "stdout",
     "output_type": "stream",
     "text": [
      "0 : 2.25\n",
      "1 : 8.0\n",
      "2 : 2.0\n",
      "3 : 9.0\n",
      "4 : 7.0\n"
     ]
    }
   ],
   "source": [
    "for i in range(0,5):\n",
    "    print(str(i),\":\",max(vetor3[i]) / min(vetor3[i]))"
   ]
  },
  {
   "cell_type": "markdown",
   "metadata": {},
   "source": [
    "## Exercício 5\n",
    "\n",
    "Elimine os NAN do array a."
   ]
  },
  {
   "cell_type": "code",
   "execution_count": 34,
   "metadata": {},
   "outputs": [
    {
     "data": {
      "text/plain": [
       "array([[ 1., nan,  3.],\n",
       "       [nan,  5.,  6.],\n",
       "       [ 7.,  8., nan]])"
      ]
     },
     "execution_count": 34,
     "metadata": {},
     "output_type": "execute_result"
    }
   ],
   "source": [
    "vetor4 = np.array([[1, np.nan, 3], [np.nan, 5, 6], [7, 8, np.nan]])\n",
    "vetor4"
   ]
  },
  {
   "cell_type": "code",
   "execution_count": 41,
   "metadata": {},
   "outputs": [
    {
     "data": {
      "text/plain": [
       "array([1., 3., 5., 6., 7., 8.])"
      ]
     },
     "execution_count": 41,
     "metadata": {},
     "output_type": "execute_result"
    }
   ],
   "source": [
    "#~ = not (ou seja, not isnan)\n",
    "vetor5 = vetor4[~np.isnan(vetor4)]\n",
    "vetor5"
   ]
  },
  {
   "cell_type": "code",
   "execution_count": null,
   "metadata": {},
   "outputs": [],
   "source": []
  },
  {
   "cell_type": "code",
   "execution_count": null,
   "metadata": {},
   "outputs": [],
   "source": []
  },
  {
   "cell_type": "markdown",
   "metadata": {},
   "source": [
    "## Exercício 6\n",
    "\n",
    "Dado o array a de 2 dimensões e o array b de uma dimensão apenas. Subtraia o array b do array a, de forma que cada elemento do array b subtraia a __linha__ correspondente do array a."
   ]
  },
  {
   "cell_type": "code",
   "execution_count": 7,
   "metadata": {},
   "outputs": [
    {
     "data": {
      "text/plain": [
       "array([[3, 3, 3],\n",
       "       [4, 4, 4],\n",
       "       [5, 5, 5]])"
      ]
     },
     "execution_count": 7,
     "metadata": {},
     "output_type": "execute_result"
    }
   ],
   "source": [
    "vetor6 = np.array([[3,3,3],[4,4,4],[5,5,5]])\n",
    "vetor6"
   ]
  },
  {
   "cell_type": "code",
   "execution_count": 8,
   "metadata": {},
   "outputs": [
    {
     "data": {
      "text/plain": [
       "array([1, 2, 3])"
      ]
     },
     "execution_count": 8,
     "metadata": {},
     "output_type": "execute_result"
    }
   ],
   "source": [
    "vetor7 = np.array([1,2,3])\n",
    "vetor7"
   ]
  },
  {
   "cell_type": "code",
   "execution_count": 9,
   "metadata": {},
   "outputs": [
    {
     "data": {
      "text/plain": [
       "array([[2, 1, 0],\n",
       "       [3, 2, 1],\n",
       "       [4, 3, 2]])"
      ]
     },
     "execution_count": 9,
     "metadata": {},
     "output_type": "execute_result"
    }
   ],
   "source": [
    "vetor8 = vetor6 - vetor7\n",
    "vetor8"
   ]
  },
  {
   "cell_type": "code",
   "execution_count": 11,
   "metadata": {},
   "outputs": [
    {
     "data": {
      "text/plain": [
       "array([[2, 2, 2],\n",
       "       [2, 2, 2],\n",
       "       [2, 2, 2]])"
      ]
     },
     "execution_count": 11,
     "metadata": {},
     "output_type": "execute_result"
    }
   ],
   "source": [
    "vetor6 = np.array([[3,3,3],[4,4,4],[5,5,5]])\n",
    "vetor6\n",
    "\n",
    "vetor7 = np.array([1,2,3])\n",
    "vetor7\n",
    "\n",
    "vetor6 - vetor7.reshape(-1,1)"
   ]
  },
  {
   "cell_type": "code",
   "execution_count": null,
   "metadata": {},
   "outputs": [],
   "source": []
  }
 ],
 "metadata": {
  "kernelspec": {
   "display_name": "Python 3",
   "language": "python",
   "name": "python3"
  },
  "language_info": {
   "codemirror_mode": {
    "name": "ipython",
    "version": 3
   },
   "file_extension": ".py",
   "mimetype": "text/x-python",
   "name": "python",
   "nbconvert_exporter": "python",
   "pygments_lexer": "ipython3",
   "version": "3.9.2"
  }
 },
 "nbformat": 4,
 "nbformat_minor": 2
}
