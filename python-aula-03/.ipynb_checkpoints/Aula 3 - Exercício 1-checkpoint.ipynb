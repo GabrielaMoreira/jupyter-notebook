{
 "cells": [
  {
   "cell_type": "markdown",
   "metadata": {},
   "source": [
    "## Aula 3 - Exercício 1\n",
    "\n",
    "\n",
    "\n",
    "### Considere um arquivo em formato CSV com informações estatísticas sobre as eleições brasileiras do ano de 2016. [fonte](http://www.tse.jus.br)\n",
    "\n",
    "### O arquivo (BR_eleitorado_2016_municipio.csv) contém dados segmentados por município, estado da federação, faixas etárias e gêneros. O arquivo foi gerado com encoding utf-8.\n",
    "\n",
    "### O arquivo está sem um critério de ordenação\n",
    "\n",
    "### Pede-se:\n",
    "- Efetue a leitura do arquivo, criando uma lista de objetos que representem sua estrutura de dados do arquivo (classe __Election2016__)\n",
    "- Gere um arquivo tipo CSV codificado em utf-8 com o nome __pleito_2016_classificado.csv__ com todas as informações lidas do arquivo anterior, classificadas pelas colunas uf e cod_municipio_tse consecutivamente\n",
    "- Construa uma função de nome __group_female_by_uf()__ que deverá agrupar, sumarizar e retornar uma lista de tuplas com a quantidade de eleitoras por estado (uf, qtd), utilizando o recurso list comprehension\n",
    "- Crie uma função chamada __save_election_by_uf()__. Esta função deverá gravar em arquivos CSV, as mesmas informações do arquivo principal (BR_eleitorado_2016_municipio.csv) com a mesma estrutura, porém separando um arquivo por unidade federativa (UF). Cada arquivo deverá ter o nome da uf. Os arquivos deverão ser gravados por threads separadas favorecendo dessa forma o desempenho do programa no momento da gravação."
   ]
  },
  {
   "cell_type": "code",
   "execution_count": 3,
   "metadata": {},
   "outputs": [
    {
     "name": "stdout",
     "output_type": "stream",
     "text": [
      "['cod_municipio_tse;uf;nome_municipio;total_eleitores;f_16;f_17;f_18_20;f_21_24;f_25_34;f_35_44;f_45_59;f_60_69;f_70_79;f_sup_79;gen_feminino;gen_masculino;gen_nao_informado']\n"
     ]
    }
   ],
   "source": [
    "import csv\n",
    "\n",
    "with open('BR_eleitorado_2016_municipio.csv', encoding ='UTF8') as csv_file:\n",
    "    \n",
    "    csv_reader = csv.reader(csv_file)\n",
    "    #imprime primeira linha:  print(next(csv_reader))\n",
    "    \n",
    "    for row in reader:\n",
    "        print(row)"
   ]
  },
  {
   "cell_type": "code",
   "execution_count": null,
   "metadata": {},
   "outputs": [],
   "source": []
  }
 ],
 "metadata": {
  "kernelspec": {
   "display_name": "Python 3",
   "language": "python",
   "name": "python3"
  },
  "language_info": {
   "codemirror_mode": {
    "name": "ipython",
    "version": 3
   },
   "file_extension": ".py",
   "mimetype": "text/x-python",
   "name": "python",
   "nbconvert_exporter": "python",
   "pygments_lexer": "ipython3",
   "version": "3.9.2"
  }
 },
 "nbformat": 4,
 "nbformat_minor": 2
}
