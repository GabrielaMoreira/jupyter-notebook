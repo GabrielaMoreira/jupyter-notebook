{
 "cells": [
  {
   "cell_type": "markdown",
   "metadata": {},
   "source": [
    "## Aula 3 - Exercício 1\n",
    "\n",
    "\n",
    "\n",
    "### Considere um arquivo em formato CSV com informações estatísticas sobre as eleições brasileiras do ano de 2016. [fonte](http://www.tse.jus.br)\n",
    "\n",
    "### O arquivo (BR_eleitorado_2016_municipio.csv) contém dados segmentados por município, estado da federação, faixas etárias e gêneros. O arquivo foi gerado com encoding utf-8.\n",
    "\n",
    "### O arquivo está sem um critério de ordenação\n",
    "\n",
    "### Pede-se:\n",
    "- Efetue a leitura do arquivo, criando uma lista de objetos que representem sua estrutura de dados do arquivo (classe __Election2016__)\n",
    "- Gere um arquivo tipo CSV codificado em utf-8 com o nome __pleito_2016_classificado.csv__ com todas as informações lidas do arquivo anterior, classificadas pelas colunas uf e cod_municipio_tse consecutivamente\n",
    "- Construa uma função de nome __group_female_by_uf()__ que deverá agrupar, sumarizar e retornar uma lista de tuplas com a quantidade de eleitoras por estado (uf, qtd), utilizando o recurso list comprehension\n",
    "- Crie uma função chamada __save_election_by_uf()__. Esta função deverá gravar em arquivos CSV, as mesmas informações do arquivo principal (BR_eleitorado_2016_municipio.csv) com a mesma estrutura, porém separando um arquivo por unidade federativa (UF). Cada arquivo deverá ter o nome da uf. Os arquivos deverão ser gravados por threads separadas favorecendo dessa forma o desempenho do programa no momento da gravação."
   ]
  },
  {
   "cell_type": "code",
   "execution_count": 1,
   "metadata": {},
   "outputs": [],
   "source": [
    "import csv\n",
    "from operator import attrgetter"
   ]
  },
  {
   "cell_type": "code",
   "execution_count": null,
   "metadata": {
    "scrolled": false
   },
   "outputs": [],
   "source": [
    "with open('BR_eleitorado_2016_municipio.csv', encoding ='UTF8') as csv_file:\n",
    "    \n",
    "    csv_reader = csv.reader(csv_file, delimiter=\";\")\n",
    "    sortedlist = sorted(csv_reader, key=operator.attrgetter('uf', 'cod_municipio_tse'), reverse=False)\n",
    "    \n",
    "    for row in sortedlist:\n",
    "        print(row)"
   ]
  },
  {
   "cell_type": "code",
   "execution_count": null,
   "metadata": {},
   "outputs": [],
   "source": [
    "class Election2016():\n",
    "    def __init__(self, dic_values):\n",
    "        self.cod_municipio_tse = int(dic_values['cod_municipio_tse'])\n",
    "        self.uf"
   ]
  },
  {
   "cell_type": "code",
   "execution_count": 2,
   "metadata": {},
   "outputs": [
    {
     "ename": "ModuleNotFoundError",
     "evalue": "No module named 'numpy'",
     "output_type": "error",
     "traceback": [
      "\u001b[1;31m---------------------------------------------------------------------------\u001b[0m",
      "\u001b[1;31mModuleNotFoundError\u001b[0m                       Traceback (most recent call last)",
      "\u001b[1;32m<ipython-input-2-d4cdadb62aa7>\u001b[0m in \u001b[0;36m<module>\u001b[1;34m\u001b[0m\n\u001b[1;32m----> 1\u001b[1;33m \u001b[1;32mimport\u001b[0m \u001b[0mnumpy\u001b[0m\u001b[1;33m\u001b[0m\u001b[1;33m\u001b[0m\u001b[0m\n\u001b[0m",
      "\u001b[1;31mModuleNotFoundError\u001b[0m: No module named 'numpy'"
     ]
    }
   ],
   "source": [
    "import numpy"
   ]
  },
  {
   "cell_type": "code",
   "execution_count": null,
   "metadata": {},
   "outputs": [],
   "source": []
  }
 ],
 "metadata": {
  "kernelspec": {
   "display_name": "Python 3",
   "language": "python",
   "name": "python3"
  },
  "language_info": {
   "codemirror_mode": {
    "name": "ipython",
    "version": 3
   },
   "file_extension": ".py",
   "mimetype": "text/x-python",
   "name": "python",
   "nbconvert_exporter": "python",
   "pygments_lexer": "ipython3",
   "version": "3.9.2"
  }
 },
 "nbformat": 4,
 "nbformat_minor": 2
}
