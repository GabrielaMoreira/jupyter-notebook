{
 "cells": [
  {
   "cell_type": "code",
   "execution_count": 290,
   "id": "opponent-cartoon",
   "metadata": {},
   "outputs": [],
   "source": [
    "class Cliente:\n",
    "    def __init__(self, nome, doc):\n",
    "        print('Criando o objeto CLIENTE (GENERICO):', self)\n",
    "        self.nome = nome\n",
    "        self.doc = doc\n"
   ]
  },
  {
   "cell_type": "code",
   "execution_count": 300,
   "id": "duplicate-moore",
   "metadata": {},
   "outputs": [],
   "source": [
    "class ClientePJ(Cliente):\n",
    "    def __init__(self, nome, doc):\n",
    "        print('Criando o objeto CLIENTE PJ:', self)\n",
    "        super().__init__(nome, doc)\n",
    "        self.tipo = 'PJ'"
   ]
  },
  {
   "cell_type": "code",
   "execution_count": 306,
   "id": "computational-request",
   "metadata": {},
   "outputs": [],
   "source": [
    "class ClientePF(Cliente):\n",
    "    def __init__(self, nome, doc):\n",
    "        print('Criando o objeto CLIENTE PF:', self)\n",
    "        super().__init__(nome, doc)\n",
    "        self.tipo = 'PF'\n",
    "        self.categoria = 'VanGogh'"
   ]
  },
  {
   "cell_type": "code",
   "execution_count": 302,
   "id": "given-courage",
   "metadata": {},
   "outputs": [
    {
     "name": "stdout",
     "output_type": "stream",
     "text": [
      "Criando o objeto CLIENTE (GENERICO): <__main__.Cliente object at 0x0000028BE0CBF760>\n"
     ]
    }
   ],
   "source": [
    "cg = Cliente('Luciano', '112312312')"
   ]
  },
  {
   "cell_type": "code",
   "execution_count": 308,
   "id": "bibliographic-instrument",
   "metadata": {},
   "outputs": [
    {
     "name": "stdout",
     "output_type": "stream",
     "text": [
      "Criando o objeto CLIENTE PJ: <__main__.ClientePJ object at 0x0000028BE0CBFDF0>\n",
      "Criando o objeto CLIENTE (GENERICO): <__main__.ClientePJ object at 0x0000028BE0CBFDF0>\n"
     ]
    }
   ],
   "source": [
    "cpj = ClientePJ('GFT', '01010101')"
   ]
  },
  {
   "cell_type": "code",
   "execution_count": 314,
   "id": "coated-bradley",
   "metadata": {},
   "outputs": [
    {
     "name": "stdout",
     "output_type": "stream",
     "text": [
      "Criando o objeto CLIENTE PF: <__main__.ClientePF object at 0x0000028BE0CBA310>\n",
      "Criando o objeto CLIENTE (GENERICO): <__main__.ClientePF object at 0x0000028BE0CBA310>\n"
     ]
    }
   ],
   "source": [
    "cpf = ClientePF('LUCIANO', '22222222222')"
   ]
  },
  {
   "cell_type": "code",
   "execution_count": 315,
   "id": "scenic-tumor",
   "metadata": {},
   "outputs": [
    {
     "data": {
      "text/plain": [
       "'VanGogh'"
      ]
     },
     "execution_count": 315,
     "metadata": {},
     "output_type": "execute_result"
    }
   ],
   "source": [
    "cpf.categoria"
   ]
  },
  {
   "cell_type": "code",
   "execution_count": 312,
   "id": "patent-february",
   "metadata": {},
   "outputs": [],
   "source": [
    "cpf.categoria = 'TESTE'"
   ]
  },
  {
   "cell_type": "markdown",
   "id": "introductory-virgin",
   "metadata": {},
   "source": [
    "<hr>"
   ]
  },
  {
   "cell_type": "code",
   "execution_count": 375,
   "id": "graduate-queen",
   "metadata": {},
   "outputs": [],
   "source": [
    "class Account():\n",
    "    def __init__(self, number, special):\n",
    "        self.number = number\n",
    "        self.__special = special\n",
    "        self.__balance = 0\n",
    "    \n",
    "    def deposit(self, amount):\n",
    "        self.__balance += amount\n",
    "        \n",
    "    def withdral(self, amount):\n",
    "        if not self.__special and amount > self.__balance:\n",
    "            raise Exception('Balance is not enough')\n",
    "        self.__balance -= amount\n",
    "        \n",
    "    def upgrade(self):\n",
    "        self.__special = True\n",
    "        \n",
    "    def downgrade(self):\n",
    "        if self.__balance < 0:\n",
    "            raise Exception('Downgrade is not possible while balance is negative')\n",
    "        self.__special = False\n",
    "    \n",
    "    @property\n",
    "    def balance(self):\n",
    "        return self.__balance"
   ]
  },
  {
   "cell_type": "code",
   "execution_count": 377,
   "id": "sufficient-cotton",
   "metadata": {},
   "outputs": [],
   "source": [
    "account = Account(100, True)"
   ]
  },
  {
   "cell_type": "code",
   "execution_count": 388,
   "id": "distant-accommodation",
   "metadata": {},
   "outputs": [
    {
     "data": {
      "text/plain": [
       "0"
      ]
     },
     "execution_count": 388,
     "metadata": {},
     "output_type": "execute_result"
    }
   ],
   "source": [
    "account.balance"
   ]
  },
  {
   "cell_type": "code",
   "execution_count": 339,
   "id": "duplicate-tattoo",
   "metadata": {},
   "outputs": [],
   "source": [
    "account.balance = 100"
   ]
  },
  {
   "cell_type": "code",
   "execution_count": 387,
   "id": "exciting-divide",
   "metadata": {},
   "outputs": [],
   "source": [
    "account.deposit(90)"
   ]
  },
  {
   "cell_type": "code",
   "execution_count": 384,
   "id": "immediate-intellectual",
   "metadata": {},
   "outputs": [],
   "source": [
    "account.withdral(120)"
   ]
  },
  {
   "cell_type": "code",
   "execution_count": 389,
   "id": "changed-coach",
   "metadata": {},
   "outputs": [],
   "source": [
    "account.downgrade()"
   ]
  },
  {
   "cell_type": "markdown",
   "id": "opponent-basketball",
   "metadata": {},
   "source": [
    "<hr>"
   ]
  },
  {
   "cell_type": "code",
   "execution_count": 515,
   "id": "sound-application",
   "metadata": {},
   "outputs": [],
   "source": [
    "from abc import ABC, abstractmethod\n",
    "\n",
    "class Employee(ABC):\n",
    "    def __init__(self, name, salary):\n",
    "        self.name = name\n",
    "        self.salary = salary\n",
    "    \n",
    "    def bonus(self):\n",
    "        return self.salary / 2"
   ]
  },
  {
   "cell_type": "code",
   "execution_count": 516,
   "id": "catholic-capitol",
   "metadata": {},
   "outputs": [],
   "source": [
    "class Operator(Employee):\n",
    "    def __init__(self, name, salary):\n",
    "        super().__init__(name, salary)\n",
    "        self.fretado = 200"
   ]
  },
  {
   "cell_type": "code",
   "execution_count": 517,
   "id": "uniform-pharmaceutical",
   "metadata": {},
   "outputs": [
    {
     "data": {
      "text/plain": [
       "500.0"
      ]
     },
     "execution_count": 517,
     "metadata": {},
     "output_type": "execute_result"
    }
   ],
   "source": [
    "o = Operator('Luciano', 1000)\n",
    "o.bonus()"
   ]
  },
  {
   "cell_type": "code",
   "execution_count": 518,
   "id": "sublime-catholic",
   "metadata": {},
   "outputs": [],
   "source": [
    "class Manager(Employee):\n",
    "    def __init__(self, name, salary):\n",
    "        super().__init__(name, salary)    "
   ]
  },
  {
   "cell_type": "code",
   "execution_count": 520,
   "id": "numeric-shell",
   "metadata": {},
   "outputs": [
    {
     "data": {
      "text/plain": [
       "2500.0"
      ]
     },
     "execution_count": 520,
     "metadata": {},
     "output_type": "execute_result"
    }
   ],
   "source": [
    "m = Manager('Luciano', 5000)\n",
    "m.bonus()"
   ]
  },
  {
   "cell_type": "code",
   "execution_count": 503,
   "id": "conscious-airplane",
   "metadata": {},
   "outputs": [],
   "source": [
    "class Superintendent(Manager):\n",
    "    def __init__(self, name, salary):\n",
    "        super().__init__(name, salary)    "
   ]
  },
  {
   "cell_type": "code",
   "execution_count": 521,
   "id": "preliminary-jaguar",
   "metadata": {},
   "outputs": [
    {
     "data": {
      "text/plain": [
       "5000.0"
      ]
     },
     "execution_count": 521,
     "metadata": {},
     "output_type": "execute_result"
    }
   ],
   "source": [
    "si = Superintendent('Luciano', 10000)\n",
    "si.bonus()"
   ]
  },
  {
   "cell_type": "code",
   "execution_count": 526,
   "id": "bulgarian-reverse",
   "metadata": {},
   "outputs": [],
   "source": [
    "class Director(Manager):\n",
    "    def __init__(self, name, salary):\n",
    "        super().__init__(name, salary)    \n",
    "        \n",
    "    def bonus(self):\n",
    "        return self.salary * 2"
   ]
  },
  {
   "cell_type": "code",
   "execution_count": 527,
   "id": "surprising-member",
   "metadata": {},
   "outputs": [
    {
     "data": {
      "text/plain": [
       "6000"
      ]
     },
     "execution_count": 527,
     "metadata": {},
     "output_type": "execute_result"
    }
   ],
   "source": [
    "d = Director('Luciano', 3000)\n",
    "d.bonus()"
   ]
  },
  {
   "cell_type": "code",
   "execution_count": 540,
   "id": "julian-blink",
   "metadata": {},
   "outputs": [],
   "source": [
    "class Test():\n",
    "    def __init__(self, id):\n",
    "        self.id = id\n",
    "        \n",
    "    def __str__(self):\n",
    "        return 'Hello'\n",
    "    \n"
   ]
  },
  {
   "cell_type": "code",
   "execution_count": 541,
   "id": "bigger-jefferson",
   "metadata": {},
   "outputs": [],
   "source": [
    "t = Test(10)"
   ]
  },
  {
   "cell_type": "code",
   "execution_count": 543,
   "id": "olive-consultation",
   "metadata": {},
   "outputs": [
    {
     "name": "stdout",
     "output_type": "stream",
     "text": [
      "Hello\n"
     ]
    }
   ],
   "source": [
    "print(t)"
   ]
  },
  {
   "cell_type": "code",
   "execution_count": null,
   "id": "african-salem",
   "metadata": {},
   "outputs": [],
   "source": []
  }
 ],
 "metadata": {
  "kernelspec": {
   "display_name": "Python 3",
   "language": "python",
   "name": "python3"
  },
  "language_info": {
   "codemirror_mode": {
    "name": "ipython",
    "version": 3
   },
   "file_extension": ".py",
   "mimetype": "text/x-python",
   "name": "python",
   "nbconvert_exporter": "python",
   "pygments_lexer": "ipython3",
   "version": "3.9.2"
  }
 },
 "nbformat": 4,
 "nbformat_minor": 5
}
