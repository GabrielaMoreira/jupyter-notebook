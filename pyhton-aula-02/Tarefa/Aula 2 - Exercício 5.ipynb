{
 "cells": [
  {
   "cell_type": "markdown",
   "metadata": {},
   "source": [
    "## Exercício 2\n",
    "\n",
    "### Considere um arquivo CSV (comma separated values) com informações demográficas sobre super heróis (heroes_information.csv):\n",
    "- id - Numero da linha\n",
    "- name - Nome\n",
    "- Gender - Gênero\n",
    "- Eye color - Cor dos olhos\n",
    "- Race - Raça\n",
    "- Hair color - Cor do cabelo\n",
    "- Height - Altura em centimetros\n",
    "- Publisher - Estúdio\n",
    "- Skin color - Cor da pele\n",
    "- Alignment - Vilão ou herói\n",
    "- Weight - Peso em libras\n",
    "\n",
    "### Pede-se\n",
    "* Crie uma função que efetue a leitura do arquivo e crie:\n",
    "    - Um arquivo de saida (heroes_male.csv) com todos os heróis do gênero masculino (id, name)\n",
    "    - Um arquivo de saida (heroes_female.csv) com todos os heróis do gênero feminino (id, name)\n",
    "    - Um arquivo de saida (heroes_no_gender.csv) com todos os heróis sem gênero defindo (id, name)\n",
    "    - Um arquivo de saida (heroes_mavel_comics.txt) com o nome de todos os heróis dos estúdios Marvel Comics e DC Comics (um nome por linha)"
   ]
  },
  {
   "cell_type": "code",
   "execution_count": 22,
   "metadata": {},
   "outputs": [],
   "source": [
    "def write_files_heroes(input_file):\n",
    "\n",
    "    #open and write headers in result files\n",
    "    heroes_male_file = open('heroes_male.csv','w')\n",
    "    heroes_male_file.write('id,name\\n')\n",
    "\n",
    "\n",
    "    heroes_female_file = open('heroes_female.csv','w')\n",
    "    heroes_female_file.write('id,name\\n')\n",
    "\n",
    "    heroes_no_gender_file = open('heroes_no_gender.csv','w')\n",
    "    heroes_no_gender_file.write('id,name\\n')\n",
    "\n",
    "    heroes_marvel_comics_file = open('heroes_marvel_comics.csv','w')\n",
    "    heroes_marvel_comics_file.write('name\\n')\n",
    "\n",
    "    #BEGIN\n",
    "\n",
    "    with open(input_file, encoding='UTF-8') as input_file:\n",
    "\n",
    "        #avoid first line (headers)\n",
    "        next(input_file)\n",
    "\n",
    "        #for-each line read\n",
    "        for line in input_file:  \n",
    "\n",
    "            #split line by comma\n",
    "            sep_line = line.strip().split(sep=\",\")\n",
    "\n",
    "            if sep_line[2] == \"Male\":\n",
    "                heroes_male_file.write(sep_line[0]+','+sep_line[1]+'\\n')\n",
    "            elif sep_line[2] == \"Female\":\n",
    "                heroes_female_file.write(sep_line[0]+','+sep_line[1]+'\\n')\n",
    "            else:\n",
    "                heroes_no_gender_file.write(sep_line[0]+','+sep_line[1]+'\\n')\n",
    "\n",
    "            if sep_line[7] == \"Marvel Comics\" or sep_line[7] == \"DC Comics\":\n",
    "                heroes_marvel_comics_file.write(sep_line[1]+'\\n')\n",
    "\n",
    "    #END\n",
    "\n",
    "    #close all files\n",
    "    heroes_male_file.close()\n",
    "    heroes_female_file.close()\n",
    "    heroes_no_gender_file.close()\n",
    "    heroes_marvel_comics_file.close()"
   ]
  },
  {
   "cell_type": "code",
   "execution_count": 24,
   "metadata": {},
   "outputs": [],
   "source": [
    "write_files_heroes(\"heroes_information.csv\")"
   ]
  }
 ],
 "metadata": {
  "kernelspec": {
   "display_name": "Python 3",
   "language": "python",
   "name": "python3"
  },
  "language_info": {
   "codemirror_mode": {
    "name": "ipython",
    "version": 3
   },
   "file_extension": ".py",
   "mimetype": "text/x-python",
   "name": "python",
   "nbconvert_exporter": "python",
   "pygments_lexer": "ipython3",
   "version": "3.9.2"
  }
 },
 "nbformat": 4,
 "nbformat_minor": 2
}
