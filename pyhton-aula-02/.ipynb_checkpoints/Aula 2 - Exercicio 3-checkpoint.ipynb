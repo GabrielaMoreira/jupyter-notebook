{
 "cells": [
  {
   "cell_type": "markdown",
   "metadata": {},
   "source": [
    "# Exercício 2\n",
    "\n",
    "## Na matemática, a Sucessão de Fibonacci (também Sequência de Fibonacci), é uma sequência de números inteiros, começando normalmente por 0 e 1, na qual, cada termo subsequente corresponde à soma dos dois anteriores.\n",
    "\n",
    "## A sequência recebeu o nome do matemático italiano Leonardo de Pisa, mais conhecido por Fibonacci , que descreveu, no ano de 1202, o crescimento de uma população de coelhos, a partir desta. [Fonte: wikipedia](https://pt.wikipedia.org/wiki/Sequ%C3%AAncia_de_Fibonacci)\n",
    "\n",
    "## Em termos matemáticos a sequencia é definida com a seguinte fórmula (infinita):\n",
    "\n",
    "- $F_{1}$ = 1\n",
    "- $F_{2}$ = 2\n",
    "- $F_{n}$ = $F_{n - 1}$ + $F_{n - 2}$\n",
    "\n",
    "## Pede-se\n",
    "- Escreva uma função que calcule um determinado elemento da sequencia de Fibonacci, dado sua posição na sequencia\n",
    "- Escreva uma expressão lambda que faça a mesma operação\n",
    "- Aplique as funções acima até a sequencia 20 e imprima na tela a lista de valores da sequencia\n"
   ]
  },
  {
   "cell_type": "code",
   "execution_count": null,
   "metadata": {},
   "outputs": [],
   "source": [
    "def function_f(i):"
   ]
  }
 ],
 "metadata": {
  "kernelspec": {
   "display_name": "Python 3",
   "language": "python",
   "name": "python3"
  },
  "language_info": {
   "codemirror_mode": {
    "name": "ipython",
    "version": 3
   },
   "file_extension": ".py",
   "mimetype": "text/x-python",
   "name": "python",
   "nbconvert_exporter": "python",
   "pygments_lexer": "ipython3",
   "version": "3.9.2"
  }
 },
 "nbformat": 4,
 "nbformat_minor": 2
}
