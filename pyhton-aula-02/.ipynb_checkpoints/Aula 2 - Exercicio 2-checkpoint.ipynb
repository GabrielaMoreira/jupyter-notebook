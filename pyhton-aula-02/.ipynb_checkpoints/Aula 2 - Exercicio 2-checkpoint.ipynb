{
 "cells": [
  {
   "cell_type": "markdown",
   "metadata": {},
   "source": [
    "# Exercício 1\n",
    "\n",
    "## Considere as fórmulas:\n",
    "\n",
    "- $F_{1}$ = 2\n",
    "- $F_{2}$ = 1\n",
    "- $F_{i}$ = 2 * $F_{i - 1}$ + $G_{i - 2}$ para i $\\geq$ 3\n",
    "\n",
    "\n",
    "- $G_{1}$ = 1\n",
    "- $G_{2}$ = 2\n",
    "- $G_{i}$ = $G_{i - 1}$ + 3 * $F_{i - 2}$ para i $\\geq$ 3\n",
    "\n",
    "## Pede-se\n",
    "- Escreva as funções F(n) e G(n) de acordo com a fórmula\n",
    "- Escreva uma função K(n) que receba um inteiro n > 0 e devolva F(n) e G(n)\n",
    "  - Para k=2, a função deve devolver os valores 1 e 2\n",
    "  - Para k=3, a função deve devolver os valores 3 e 8\n",
    "  - Para k=4, a função deve devolver os valores 8 e 11\n",
    "- Imprima uma lista de resultados (F(n), G(n)) para K entre 1 e 5, usando List Comprehension\n"
   ]
  },
  {
   "cell_type": "code",
   "execution_count": null,
   "metadata": {},
   "outputs": [],
   "source": [
    "def function_f"
   ]
  }
 ],
 "metadata": {
  "kernelspec": {
   "display_name": "Python 3",
   "language": "python",
   "name": "python3"
  },
  "language_info": {
   "codemirror_mode": {
    "name": "ipython",
    "version": 3
   },
   "file_extension": ".py",
   "mimetype": "text/x-python",
   "name": "python",
   "nbconvert_exporter": "python",
   "pygments_lexer": "ipython3",
   "version": "3.9.2"
  }
 },
 "nbformat": 4,
 "nbformat_minor": 2
}
