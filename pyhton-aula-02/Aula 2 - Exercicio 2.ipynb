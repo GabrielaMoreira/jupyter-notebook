{
 "cells": [
  {
   "cell_type": "markdown",
   "metadata": {},
   "source": [
    "# Exercício 1\n",
    "\n",
    "## Considere as fórmulas:\n",
    "\n",
    "- $F_{1}$ = 2\n",
    "- $F_{2}$ = 1\n",
    "- $F_{i}$ = 2 * $F_{i - 1}$ + $G_{i - 2}$ para i $\\geq$ 3\n",
    "\n",
    "\n",
    "- $G_{1}$ = 1\n",
    "- $G_{2}$ = 2\n",
    "- $G_{i}$ = $G_{i - 1}$ + 3 * $F_{i - 2}$ para i $\\geq$ 3\n",
    "\n",
    "## Pede-se\n",
    "- Escreva as funções F(n) e G(n) de acordo com a fórmula\n",
    "- Escreva uma função K(n) que receba um inteiro n > 0 e devolva F(n) e G(n)\n",
    "  - Para k=2, a função deve devolver os valores 1 e 2\n",
    "  - Para k=3, a função deve devolver os valores 3 e 8\n",
    "  - Para k=4, a função deve devolver os valores 8 e 11\n",
    "- Imprima uma lista de resultados (F(n), G(n)) para K entre 1 e 5, usando List Comprehension\n"
   ]
  },
  {
   "cell_type": "code",
   "execution_count": 32,
   "metadata": {},
   "outputs": [],
   "source": [
    "def function_f(i):\n",
    "    if (i == 1):\n",
    "        return 2\n",
    "    elif (i == 2):\n",
    "        return 1\n",
    "    else:\n",
    "        return 2 * function_f(i - 1) + function_g(i - 2)"
   ]
  },
  {
   "cell_type": "code",
   "execution_count": 33,
   "metadata": {},
   "outputs": [],
   "source": [
    "def function_g(i):\n",
    "    if (i == 1):\n",
    "        return 1\n",
    "    elif (i == 2):\n",
    "        return 2\n",
    "    else:\n",
    "        return function_g(i - 1) + 3 * function_f(i - 2)"
   ]
  },
  {
   "cell_type": "code",
   "execution_count": 72,
   "metadata": {},
   "outputs": [],
   "source": [
    "def function_k(i):\n",
    "    if (i > 0):\n",
    "        return function_f(i), function_g(i)"
   ]
  },
  {
   "cell_type": "code",
   "execution_count": 73,
   "metadata": {},
   "outputs": [
    {
     "data": {
      "text/plain": [
       "[(2, 1), (1, 2), (3, 8), (8, 11), (24, 20)]"
      ]
     },
     "execution_count": 73,
     "metadata": {},
     "output_type": "execute_result"
    }
   ],
   "source": [
    "[function_k(i) for i in range(1,6)]"
   ]
  },
  {
   "cell_type": "code",
   "execution_count": 64,
   "metadata": {},
   "outputs": [
    {
     "name": "stdout",
     "output_type": "stream",
     "text": [
      "[2, 3]\n"
     ]
    }
   ],
   "source": [
    "numbers = [1,2]\n",
    "\n",
    "new_list = [n+1 for n in numbers]\n",
    "print([n+1 for n in numbers])"
   ]
  },
  {
   "cell_type": "code",
   "execution_count": null,
   "metadata": {},
   "outputs": [],
   "source": []
  }
 ],
 "metadata": {
  "kernelspec": {
   "display_name": "Python 3",
   "language": "python",
   "name": "python3"
  },
  "language_info": {
   "codemirror_mode": {
    "name": "ipython",
    "version": 3
   },
   "file_extension": ".py",
   "mimetype": "text/x-python",
   "name": "python",
   "nbconvert_exporter": "python",
   "pygments_lexer": "ipython3",
   "version": "3.9.2"
  }
 },
 "nbformat": 4,
 "nbformat_minor": 2
}
