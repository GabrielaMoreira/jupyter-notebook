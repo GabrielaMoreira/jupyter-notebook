{
 "cells": [
  {
   "cell_type": "markdown",
   "metadata": {},
   "source": [
    "## Exercício 1\n",
    "\n",
    "### Considere um arquivo texto que contem uma lista de arquivos (files.txt). Cada linha desse arquivo, possui as seguintes informações:\n",
    "- Nome do criador do arquivo, 6 posições, alinhado à esquerda\n",
    "- Tamanho do arquivo no formato human-readable size (ex. 2K – 2 kilobytes, 3M – 3 megabytes, 5G – 5 gigabytes, ou o número total de bytes caso menor que 1K), com 7 posições, alinhado à direita sendo o caracter mais à direita um espaço em branco\n",
    "- Data de criação com 11 posições, no formato dd MMM YYYY (ex: 05 Jun 2005), acompanhado de um espaço em branco à direita\n",
    "- Nome do arquivo, até o final da linha\n",
    "\n",
    "### Pede-se\n",
    "- Crie uma função que receba como parâmetro o nome do arquivo\n",
    "- A função deverá abrir o arquivo em modo somente leitura e retornar a quantidade de nomes dos criadores de arquivo únicos considerando que:\n",
    "- O tamanho máximo do arquivo em bytes, seja menor que 2 * (2^20) (2 vezes 2 elevado à vigésima potencia)\n",
    "- A data de criação do arquivo seja anterior à 28 de Fevereiro de 2000.\n"
   ]
  },
  {
   "cell_type": "code",
   "execution_count": 133,
   "metadata": {},
   "outputs": [],
   "source": [
    "from datetime import datetime\n",
    "from math import pow\n",
    "\n",
    "def amount_of_authors(file_name):\n",
    "    list_name = []\n",
    "    limit_number = 2 * pow (2,20)\n",
    "\n",
    "    #BEGIN\n",
    "    with open(file_name, encoding='UTF-8') as input_file:\n",
    "\n",
    "        for line in input_file:  \n",
    "\n",
    "            #check file datetime\n",
    "            skip_date = datetime.strptime('2000-02-28 00:00:00', '%Y-%m-%d %H:%M:%S')\n",
    "            file_date = line[13:24]\n",
    "            file_date = datetime.strptime(file_date, '%d %b %Y')\n",
    "\n",
    "            #valid file datetime\n",
    "            if(file_date < skip_date):\n",
    "\n",
    "                #check file size\n",
    "                file_size = line[6:11].strip()\n",
    "                file_type = line[11:12].upper().strip()\n",
    "                author_name = line[0:7].strip()\n",
    "\n",
    "                if file_type == \"K\":\n",
    "                    file_bytes = float(file_size)\n",
    "                    file_bytes = file_bytes * 1024\n",
    "                    \n",
    "                elif file_type == \"M\":\n",
    "                    file_bytes = float(file_size)\n",
    "                    file_bytes = file_bytes * pow(1024,2)\n",
    "\n",
    "                elif file_type == \"G\":\n",
    "                    file_bytes = float(file_size)\n",
    "                    file_bytes = file_bytes * pow(1024,3)\n",
    "                else:\n",
    "                    file_size = line[6:12]\n",
    "                    file_bytes = float(file_size)                \n",
    "                \n",
    "                #add. author if valid file size\n",
    "                if file_bytes <= limit_number:\n",
    "                        list_name.append(author_name)\n",
    "    #END                    \n",
    "\n",
    "\n",
    "    #removing duplicate authors and return amount of authors (number)\n",
    "    list_name = set(list_name)\n",
    "    return len(list_name)          "
   ]
  },
  {
   "cell_type": "code",
   "execution_count": 134,
   "metadata": {},
   "outputs": [
    {
     "data": {
      "text/plain": [
       "4"
      ]
     },
     "execution_count": 134,
     "metadata": {},
     "output_type": "execute_result"
    }
   ],
   "source": [
    "amount_of_authors('files.txt')"
   ]
  },
  {
   "cell_type": "code",
   "execution_count": null,
   "metadata": {},
   "outputs": [],
   "source": []
  }
 ],
 "metadata": {
  "kernelspec": {
   "display_name": "Python 3",
   "language": "python",
   "name": "python3"
  },
  "language_info": {
   "codemirror_mode": {
    "name": "ipython",
    "version": 3
   },
   "file_extension": ".py",
   "mimetype": "text/x-python",
   "name": "python",
   "nbconvert_exporter": "python",
   "pygments_lexer": "ipython3",
   "version": "3.9.2"
  }
 },
 "nbformat": 4,
 "nbformat_minor": 2
}
