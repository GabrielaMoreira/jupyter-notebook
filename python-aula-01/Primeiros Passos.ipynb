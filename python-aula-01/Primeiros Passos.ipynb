{
 "cells": [
  {
   "cell_type": "markdown",
   "id": "adopted-solution",
   "metadata": {},
   "source": [
    "### Primeiros Comandos\n",
    "<ul>\n",
    "    <li>Run code: ctrl + enter</li>\n",
    "    <li>Run code & Line below: shift + enter</li>\n",
    "    <li>New cell above: esc + a</li>\n",
    "    <li>New cell below: esc + b</li>\n",
    "    <li>Edit cell: enter</li>\n",
    "    <li>Navigate mode: esc</li>\n",
    "    <li>Make cell code: y (navigate mode)</li>\n",
    "    <li>Make cell markdown: m (navigate mode)</li>\n",
    "    <li>Delete cell: D + D (press the key twice)</li>\n",
    "</ul>"
   ]
  },
  {
   "cell_type": "markdown",
   "id": "strategic-equity",
   "metadata": {},
   "source": [
    "Algumas formatações são aceitas na estrututa HTML <br>\n",
    "Veja este [link](https://www.datacamp.com/community/tutorials/markdown-in-jupyter-notebook?utm_source=adwords_ppc&utm_campaignid=1455363063&utm_adgroupid=65083631748&utm_device=c&utm_keyword=&utm_matchtype=b&utm_network=g&utm_adpostion=&utm_creative=332602034364&utm_targetid=dsa-429603003980&utm_loc_interest_ms=&utm_loc_physical_ms=1001758&gclid=CjwKCAjwr_uCBhAFEiwAX8YJgXZvP2cjKgyM7NFUqogPPXTCmX0ClsLETG8MZeQ_PF2UY7rehEMLuBoCyngQAvD_BwE) para mais formatações"
   ]
  },
  {
   "cell_type": "code",
   "execution_count": 18,
   "id": "italian-ireland",
   "metadata": {},
   "outputs": [
    {
     "name": "stdout",
     "output_type": "stream",
     "text": [
      "Hello Jupyter\n"
     ]
    }
   ],
   "source": [
    "print(\"Hello Jupyter\")"
   ]
  },
  {
   "cell_type": "markdown",
   "id": "passing-contrary",
   "metadata": {},
   "source": [
    "Identação é muito importante para os códigos python"
   ]
  },
  {
   "cell_type": "code",
   "execution_count": null,
   "id": "deluxe-separate",
   "metadata": {},
   "outputs": [],
   "source": [
    "if condicao:\n",
    "    codigo aqui\n",
    "    codigo aqui\n",
    "    codigo aqui\n",
    "    \n",
    "    if outra_contidao:\n",
    "        codigo aqui\n",
    "        codigo aqui\n",
    "        codigo aqui\n",
    "    else:\n",
    "        codigo aqui"
   ]
  },
  {
   "cell_type": "code",
   "execution_count": 9,
   "id": "framed-collective",
   "metadata": {},
   "outputs": [
    {
     "name": "stdout",
     "output_type": "stream",
     "text": [
      "Resposta\n",
      "FALSE\n"
     ]
    }
   ],
   "source": [
    "# one line comment\n",
    "x = False\n",
    "'''\n",
    "multiple lines\n",
    "comment\n",
    "'''\n",
    "if x == True:\n",
    "    print(\"Resposta\")\n",
    "    print(\"TRUE\")\n",
    "else:\n",
    "    print(\"Resposta\")\n",
    "    print(\"FALSE\")"
   ]
  },
  {
   "cell_type": "markdown",
   "id": "established-cameroon",
   "metadata": {},
   "source": [
    "### Exemplos de atribuições \n",
    "o próprio python faz a tribuição do tipo de acordo com o conteúdo"
   ]
  },
  {
   "cell_type": "code",
   "execution_count": 10,
   "id": "overhead-hospital",
   "metadata": {},
   "outputs": [],
   "source": [
    "i = 10"
   ]
  },
  {
   "cell_type": "code",
   "execution_count": 11,
   "id": "incomplete-growing",
   "metadata": {},
   "outputs": [
    {
     "data": {
      "text/plain": [
       "int"
      ]
     },
     "execution_count": 11,
     "metadata": {},
     "output_type": "execute_result"
    }
   ],
   "source": [
    "type(i)"
   ]
  },
  {
   "cell_type": "code",
   "execution_count": 12,
   "id": "focal-flour",
   "metadata": {},
   "outputs": [],
   "source": [
    "f = 10.5"
   ]
  },
  {
   "cell_type": "code",
   "execution_count": 13,
   "id": "suited-passing",
   "metadata": {},
   "outputs": [
    {
     "data": {
      "text/plain": [
       "float"
      ]
     },
     "execution_count": 13,
     "metadata": {},
     "output_type": "execute_result"
    }
   ],
   "source": [
    "type(f)"
   ]
  },
  {
   "cell_type": "markdown",
   "id": "stretch-words",
   "metadata": {},
   "source": [
    "### Reaproveitamento de variaveis \n",
    "pode ser atribuido posteriormente um novo valor de outro tipo a uma variavel"
   ]
  },
  {
   "cell_type": "code",
   "execution_count": 14,
   "id": "unavailable-miami",
   "metadata": {},
   "outputs": [],
   "source": [
    "i = \"STRING\""
   ]
  },
  {
   "cell_type": "code",
   "execution_count": 16,
   "id": "minor-venice",
   "metadata": {},
   "outputs": [
    {
     "name": "stdout",
     "output_type": "stream",
     "text": [
      "STRING\n"
     ]
    }
   ],
   "source": [
    "print(i)"
   ]
  },
  {
   "cell_type": "code",
   "execution_count": 17,
   "id": "detailed-chrome",
   "metadata": {},
   "outputs": [
    {
     "data": {
      "text/plain": [
       "str"
      ]
     },
     "execution_count": 17,
     "metadata": {},
     "output_type": "execute_result"
    }
   ],
   "source": [
    "type(i)"
   ]
  },
  {
   "cell_type": "code",
   "execution_count": 19,
   "id": "turkish-criticism",
   "metadata": {},
   "outputs": [],
   "source": [
    "a = b = c = 10"
   ]
  },
  {
   "cell_type": "code",
   "execution_count": 23,
   "id": "regulation-maine",
   "metadata": {
    "scrolled": true
   },
   "outputs": [
    {
     "name": "stdout",
     "output_type": "stream",
     "text": [
      "10\n",
      "10\n",
      "10\n"
     ]
    }
   ],
   "source": [
    "print(a)\n",
    "print(b)\n",
    "print(c)"
   ]
  },
  {
   "cell_type": "code",
   "execution_count": 24,
   "id": "proved-lightning",
   "metadata": {},
   "outputs": [],
   "source": [
    "a, b, c = 1, 10.5, 'Python'"
   ]
  },
  {
   "cell_type": "code",
   "execution_count": 25,
   "id": "alone-antenna",
   "metadata": {
    "scrolled": true
   },
   "outputs": [
    {
     "name": "stdout",
     "output_type": "stream",
     "text": [
      "1\n",
      "10.5\n",
      "Python\n"
     ]
    }
   ],
   "source": [
    "print(a)\n",
    "print(b)\n",
    "print(c)"
   ]
  },
  {
   "cell_type": "markdown",
   "id": "featured-midwest",
   "metadata": {},
   "source": [
    "### Alguns tipos, funções e métodos diferentes suportados\n",
    "List: a = [1,2.2,\"Python\"]<br>\n",
    "Tuples: t = (2, \"Tuple\",\"95\")<br>\n",
    "Dictionary: d = {\n",
    "  \"brand\": \"Ford\",\n",
    "  \"model\": \"Mustang\",\n",
    "  \"year\": 1964\n",
    "}<br>\n",
    "\n",
    "Veja mais [aqui](https://towardsdatascience.com/the-python-standard-library-modules-you-should-know-as-a-data-scientist-47e1117ca6c8#:~:text=The%20Python%20Standard%20Library%20provides%20a%20built%2Din%20module%20that,for%20more%20complex%20numerical%20analysis)"
   ]
  },
  {
   "cell_type": "markdown",
   "id": "changed-concept",
   "metadata": {},
   "source": [
    "### Ações com String (funções e métodos)\n",
    "Letra faz parte de ?"
   ]
  },
  {
   "cell_type": "code",
   "execution_count": 32,
   "id": "changed-playback",
   "metadata": {},
   "outputs": [
    {
     "data": {
      "text/plain": [
       "False"
      ]
     },
     "execution_count": 32,
     "metadata": {},
     "output_type": "execute_result"
    }
   ],
   "source": [
    "s = \"Python\"\n",
    "\"m\" in s"
   ]
  },
  {
   "cell_type": "code",
   "execution_count": 29,
   "id": "hungarian-resistance",
   "metadata": {},
   "outputs": [
    {
     "data": {
      "text/plain": [
       "True"
      ]
     },
     "execution_count": 29,
     "metadata": {},
     "output_type": "execute_result"
    }
   ],
   "source": [
    "\"P\" in s"
   ]
  },
  {
   "cell_type": "markdown",
   "id": "innovative-heritage",
   "metadata": {},
   "source": [
    "Pedaço de uma string"
   ]
  },
  {
   "cell_type": "code",
   "execution_count": 34,
   "id": "visible-radical",
   "metadata": {},
   "outputs": [
    {
     "name": "stdout",
     "output_type": "stream",
     "text": [
      "ytho\n"
     ]
    }
   ],
   "source": [
    "print(s[1:5])"
   ]
  },
  {
   "cell_type": "markdown",
   "id": "precise-commitment",
   "metadata": {},
   "source": [
    "Tamanho de uma string (caracteres)"
   ]
  },
  {
   "cell_type": "code",
   "execution_count": 35,
   "id": "mediterranean-portugal",
   "metadata": {},
   "outputs": [
    {
     "data": {
      "text/plain": [
       "6"
      ]
     },
     "execution_count": 35,
     "metadata": {},
     "output_type": "execute_result"
    }
   ],
   "source": [
    "len(s)"
   ]
  },
  {
   "cell_type": "markdown",
   "id": "western-vatican",
   "metadata": {},
   "source": [
    "### Lista\n",
    "Seus valores podem ser alterados (incluir e excluir itens), a performance com muitos dados é pior (usar somente com poucos dados ou quando for necessário alterar itens)"
   ]
  },
  {
   "cell_type": "code",
   "execution_count": 40,
   "id": "conditional-steps",
   "metadata": {},
   "outputs": [
    {
     "data": {
      "text/plain": [
       "[10.5, 2, [1, 2, 3], 'Facens', 'Python']"
      ]
     },
     "execution_count": 40,
     "metadata": {},
     "output_type": "execute_result"
    }
   ],
   "source": [
    "l = [10.5, 2, [1,2,3], \"Facens\", \"Python\"]\n",
    "l"
   ]
  },
  {
   "cell_type": "code",
   "execution_count": 41,
   "id": "adult-sunrise",
   "metadata": {},
   "outputs": [
    {
     "data": {
      "text/plain": [
       "[10.5, 2, [1, 2, 3], 'Facens']"
      ]
     },
     "execution_count": 41,
     "metadata": {},
     "output_type": "execute_result"
    }
   ],
   "source": [
    "l.remove(\"Python\")\n",
    "l"
   ]
  },
  {
   "cell_type": "code",
   "execution_count": 42,
   "id": "several-platform",
   "metadata": {},
   "outputs": [
    {
     "data": {
      "text/plain": [
       "2"
      ]
     },
     "execution_count": 42,
     "metadata": {},
     "output_type": "execute_result"
    }
   ],
   "source": [
    "l[1]"
   ]
  },
  {
   "cell_type": "code",
   "execution_count": 43,
   "id": "compatible-devil",
   "metadata": {},
   "outputs": [
    {
     "data": {
      "text/plain": [
       "2319286757712"
      ]
     },
     "execution_count": 43,
     "metadata": {},
     "output_type": "execute_result"
    }
   ],
   "source": [
    "id(l[1])"
   ]
  },
  {
   "cell_type": "markdown",
   "id": "regional-orange",
   "metadata": {},
   "source": [
    "### Tuplas\n",
    "Uma vez criada não pode ser alterado (incluir ou excluir itens), porem a performance é melhor (caso de muitos dados a processar)"
   ]
  },
  {
   "cell_type": "code",
   "execution_count": 45,
   "id": "derived-console",
   "metadata": {},
   "outputs": [
    {
     "data": {
      "text/plain": [
       "(1, 23.4, 'Facens', [1, 2, 3], (1, 10.5, 'Python'))"
      ]
     },
     "execution_count": 45,
     "metadata": {},
     "output_type": "execute_result"
    }
   ],
   "source": [
    "t = (a, 23.4, \"Facens\", [1,2,3], (a,b,c))\n",
    "t"
   ]
  },
  {
   "cell_type": "code",
   "execution_count": 46,
   "id": "graduate-lloyd",
   "metadata": {},
   "outputs": [
    {
     "data": {
      "text/plain": [
       "tuple"
      ]
     },
     "execution_count": 46,
     "metadata": {},
     "output_type": "execute_result"
    }
   ],
   "source": [
    "type(t)"
   ]
  },
  {
   "cell_type": "markdown",
   "id": "hairy-network",
   "metadata": {},
   "source": [
    "### Estruturas de repetição"
   ]
  },
  {
   "cell_type": "code",
   "execution_count": 47,
   "id": "union-vegetation",
   "metadata": {},
   "outputs": [
    {
     "name": "stdout",
     "output_type": "stream",
     "text": [
      "10.5\n",
      "2\n",
      "[1, 2, 3]\n",
      "Facens\n"
     ]
    }
   ],
   "source": [
    "for element in l:\n",
    "    print(element)"
   ]
  },
  {
   "cell_type": "code",
   "execution_count": 49,
   "id": "voluntary-techno",
   "metadata": {},
   "outputs": [
    {
     "name": "stdout",
     "output_type": "stream",
     "text": [
      "10.5\n",
      "2\n",
      "[1, 2, 3]\n",
      "Facens\n"
     ]
    }
   ],
   "source": [
    "for i in l:\n",
    "    print(i)"
   ]
  },
  {
   "cell_type": "code",
   "execution_count": 52,
   "id": "lightweight-divide",
   "metadata": {},
   "outputs": [
    {
     "name": "stdout",
     "output_type": "stream",
     "text": [
      "10\n",
      "9\n",
      "8\n",
      "7\n",
      "6\n"
     ]
    }
   ],
   "source": [
    "c = 10\n",
    "while c > 5:\n",
    "    print(c)\n",
    "    c = c-1"
   ]
  },
  {
   "cell_type": "code",
   "execution_count": 54,
   "id": "adult-latitude",
   "metadata": {},
   "outputs": [
    {
     "name": "stdout",
     "output_type": "stream",
     "text": [
      "10.5\n",
      "2\n",
      "[1, 2, 3]\n"
     ]
    }
   ],
   "source": [
    "index = 0\n",
    "while l[index] != \"Facens\":\n",
    "    print(l[index])\n",
    "    index = index + 1"
   ]
  },
  {
   "cell_type": "markdown",
   "id": "european-explosion",
   "metadata": {},
   "source": [
    "Para naquele determinado item"
   ]
  },
  {
   "cell_type": "code",
   "execution_count": 60,
   "id": "cheap-portsmouth",
   "metadata": {},
   "outputs": [
    {
     "name": "stdout",
     "output_type": "stream",
     "text": [
      "10\n",
      "9\n",
      "8\n",
      "7\n",
      "6\n",
      "5\n",
      "4\n"
     ]
    }
   ],
   "source": [
    "c = 10\n",
    "while c > 0:\n",
    "    print(c)\n",
    "    c = c-1\n",
    "    if c == 3:\n",
    "        break"
   ]
  },
  {
   "cell_type": "markdown",
   "id": "adapted-handbook",
   "metadata": {},
   "source": [
    "Pula aquele determinado item"
   ]
  },
  {
   "cell_type": "code",
   "execution_count": 61,
   "id": "phantom-genealogy",
   "metadata": {},
   "outputs": [
    {
     "name": "stdout",
     "output_type": "stream",
     "text": [
      "9\n",
      "8\n",
      "7\n",
      "6\n",
      "5\n",
      "4\n",
      "2\n",
      "1\n",
      "0\n"
     ]
    }
   ],
   "source": [
    "c = 10\n",
    "while c > 0:\n",
    "    c = c-1\n",
    "    if c == 3:\n",
    "        continue\n",
    "    print(c)"
   ]
  },
  {
   "cell_type": "code",
   "execution_count": 62,
   "id": "objective-colleague",
   "metadata": {},
   "outputs": [],
   "source": [
    "a = 1\n",
    "b = 2"
   ]
  },
  {
   "cell_type": "code",
   "execution_count": 63,
   "id": "frozen-inflation",
   "metadata": {},
   "outputs": [
    {
     "data": {
      "text/plain": [
       "False"
      ]
     },
     "execution_count": 63,
     "metadata": {},
     "output_type": "execute_result"
    }
   ],
   "source": [
    "a is b"
   ]
  },
  {
   "cell_type": "code",
   "execution_count": 64,
   "id": "forward-jaguar",
   "metadata": {},
   "outputs": [
    {
     "data": {
      "text/plain": [
       "2319286757680"
      ]
     },
     "execution_count": 64,
     "metadata": {},
     "output_type": "execute_result"
    }
   ],
   "source": [
    "id(a)"
   ]
  },
  {
   "cell_type": "code",
   "execution_count": 65,
   "id": "joined-lindsay",
   "metadata": {},
   "outputs": [
    {
     "data": {
      "text/plain": [
       "2319286757712"
      ]
     },
     "execution_count": 65,
     "metadata": {},
     "output_type": "execute_result"
    }
   ],
   "source": [
    "id(b)"
   ]
  },
  {
   "cell_type": "code",
   "execution_count": 66,
   "id": "smaller-movement",
   "metadata": {},
   "outputs": [],
   "source": [
    "a = 1\n",
    "b = 1"
   ]
  },
  {
   "cell_type": "code",
   "execution_count": 67,
   "id": "technological-banking",
   "metadata": {},
   "outputs": [
    {
     "data": {
      "text/plain": [
       "True"
      ]
     },
     "execution_count": 67,
     "metadata": {},
     "output_type": "execute_result"
    }
   ],
   "source": [
    "a is b"
   ]
  },
  {
   "cell_type": "code",
   "execution_count": 68,
   "id": "foreign-central",
   "metadata": {},
   "outputs": [
    {
     "data": {
      "text/plain": [
       "2319286757680"
      ]
     },
     "execution_count": 68,
     "metadata": {},
     "output_type": "execute_result"
    }
   ],
   "source": [
    "id(a)"
   ]
  },
  {
   "cell_type": "code",
   "execution_count": 69,
   "id": "broad-simon",
   "metadata": {},
   "outputs": [
    {
     "data": {
      "text/plain": [
       "2319286757680"
      ]
     },
     "execution_count": 69,
     "metadata": {},
     "output_type": "execute_result"
    }
   ],
   "source": [
    "id(b)"
   ]
  },
  {
   "cell_type": "code",
   "execution_count": null,
   "id": "correct-favor",
   "metadata": {},
   "outputs": [],
   "source": []
  }
 ],
 "metadata": {
  "kernelspec": {
   "display_name": "Python 3",
   "language": "python",
   "name": "python3"
  },
  "language_info": {
   "codemirror_mode": {
    "name": "ipython",
    "version": 3
   },
   "file_extension": ".py",
   "mimetype": "text/x-python",
   "name": "python",
   "nbconvert_exporter": "python",
   "pygments_lexer": "ipython3",
   "version": "3.9.2"
  }
 },
 "nbformat": 4,
 "nbformat_minor": 5
}
