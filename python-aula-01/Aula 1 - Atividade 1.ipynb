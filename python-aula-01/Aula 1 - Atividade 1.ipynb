{
 "cells": [
  {
   "cell_type": "markdown",
   "metadata": {},
   "source": [
    "# Aula 1 - Atividade 1\n",
    "\n",
    "## Escreva uma função que receba três parâmetros (a, b e c) inteiros e retorne o maior valor entre os argumentos passados"
   ]
  },
  {
   "cell_type": "code",
   "execution_count": 23,
   "metadata": {},
   "outputs": [],
   "source": [
    "def MaiorNumero(arg1, arg2, arg3):\n",
    "    if((arg1>arg2 and arg1>arg3) or (arg1>arg2 and arg1==arg3)):\n",
    "        print(\"Maior numero: \" + str(arg1))\n",
    "    else:\n",
    "        if((arg2>arg1 and arg2>arg3) or (arg2>arg3 and arg1==arg2)):\n",
    "            print(\"Maior numero: \" + str(arg2))\n",
    "        else:\n",
    "            if((arg3>arg1 and arg3>arg2) or (arg3>arg1 and arg3==arg2)):\n",
    "                print(\"Maior numero: \" + str(arg3))\n",
    "            else:\n",
    "                print(\"Maior numero: \" + str(arg1))"
   ]
  },
  {
   "cell_type": "code",
   "execution_count": 14,
   "metadata": {},
   "outputs": [
    {
     "name": "stdout",
     "output_type": "stream",
     "text": [
      "Maior numero: 30\n"
     ]
    }
   ],
   "source": [
    "MaiorNumero(10,20,30)"
   ]
  },
  {
   "cell_type": "code",
   "execution_count": 18,
   "metadata": {},
   "outputs": [
    {
     "name": "stdout",
     "output_type": "stream",
     "text": [
      "Maior numero: 20\n"
     ]
    }
   ],
   "source": [
    "MaiorNumero(10,10,20)"
   ]
  },
  {
   "cell_type": "code",
   "execution_count": 24,
   "metadata": {},
   "outputs": [
    {
     "name": "stdout",
     "output_type": "stream",
     "text": [
      "Maior numero: 60\n"
     ]
    }
   ],
   "source": [
    "MaiorNumero(60,10,10)"
   ]
  },
  {
   "cell_type": "code",
   "execution_count": 19,
   "metadata": {},
   "outputs": [
    {
     "name": "stdout",
     "output_type": "stream",
     "text": [
      "Maior numero: 40\n"
     ]
    }
   ],
   "source": [
    "MaiorNumero(10,40,10)"
   ]
  },
  {
   "cell_type": "code",
   "execution_count": 21,
   "metadata": {},
   "outputs": [
    {
     "name": "stdout",
     "output_type": "stream",
     "text": [
      "Maior numero: 10\n"
     ]
    }
   ],
   "source": [
    "MaiorNumero(10,10,10)"
   ]
  },
  {
   "cell_type": "code",
   "execution_count": 25,
   "metadata": {},
   "outputs": [],
   "source": [
    "def MaiorNumeroReturn(arg1, arg2, arg3):\n",
    "    if((arg1>arg2 and arg1>arg3) or (arg1>arg2 and arg1==arg3)):\n",
    "        return arg1\n",
    "    else:\n",
    "        if((arg2>arg1 and arg2>arg3) or (arg2>arg3 and arg1==arg2)):\n",
    "            return arg2\n",
    "        else:\n",
    "            if((arg3>arg1 and arg3>arg2) or (arg3>arg1 and arg3==arg2)):\n",
    "                return arg3\n",
    "            else:\n",
    "                return arg1"
   ]
  },
  {
   "cell_type": "code",
   "execution_count": 29,
   "metadata": {},
   "outputs": [],
   "source": [
    "assert MaiorNumeroReturn(1,2,3) == 3"
   ]
  },
  {
   "cell_type": "code",
   "execution_count": null,
   "metadata": {},
   "outputs": [],
   "source": []
  }
 ],
 "metadata": {
  "kernelspec": {
   "display_name": "Python 3",
   "language": "python",
   "name": "python3"
  },
  "language_info": {
   "codemirror_mode": {
    "name": "ipython",
    "version": 3
   },
   "file_extension": ".py",
   "mimetype": "text/x-python",
   "name": "python",
   "nbconvert_exporter": "python",
   "pygments_lexer": "ipython3",
   "version": "3.9.2"
  }
 },
 "nbformat": 4,
 "nbformat_minor": 2
}
