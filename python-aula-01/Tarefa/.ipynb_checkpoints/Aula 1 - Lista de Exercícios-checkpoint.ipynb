{
 "cells": [
  {
   "cell_type": "markdown",
   "metadata": {},
   "source": [
    "# Aula 1 - Lista de Exercícios Extras"
   ]
  },
  {
   "cell_type": "markdown",
   "metadata": {},
   "source": [
    "## Exercício 1\n",
    "\n",
    "### Crie uma função com o nome check_prime_number para verificar ser um número é primo ou não.\n",
    "* a função deverá verificar se trata-se de um número inteiro e maior que zero, caso contrário deverá retornar a mensagem \"invalid argument\"\n",
    "* Caso o argumento recebido seja válido, a função deverá verificar se trata-se de um número retornando a mensagem \"prime number\", caso contrário \"not a prime number\"\n",
    "* O valor máximo que a função calculará é de 5,5 * 10^7. Caso o número passado como argumento seja maior, retornar a mensagem \"argument out of range\""
   ]
  },
  {
   "cell_type": "code",
   "execution_count": 1,
   "metadata": {},
   "outputs": [],
   "source": [
    "def check_prime_number(num):\n",
    "    \n",
    "    prime_number = True\n",
    "    \n",
    "    if(num > 55000000):\n",
    "        return print(\"argument out of range\")\n",
    "    \n",
    "    if (isinstance(num, int) == True) and (num > 0):\n",
    "        if num == 1:\n",
    "            return print(\"not a prime number\")\n",
    "        else:        \n",
    "            for count in range(2, num):\n",
    "                if(num % count) == 0:\n",
    "                    prime_number = False\n",
    "                    break\n",
    "\n",
    "            if prime_number == True:\n",
    "                return print(\"prime number\")\n",
    "            else:\n",
    "                return print(\"not a prime number\")        \n",
    "    else:\n",
    "        return print(\"invalid argument\")"
   ]
  },
  {
   "cell_type": "code",
   "execution_count": 3,
   "metadata": {},
   "outputs": [
    {
     "name": "stdout",
     "output_type": "stream",
     "text": [
      "prime number\n"
     ]
    }
   ],
   "source": [
    "check_prime_number(11)"
   ]
  },
  {
   "cell_type": "markdown",
   "metadata": {},
   "source": [
    "<hr>"
   ]
  },
  {
   "cell_type": "markdown",
   "metadata": {},
   "source": [
    "## Exercício 2\n",
    "\n",
    "### Crie uma função com o nome *sum_of_products* que:\n",
    "\n",
    "* Receba duas listas numéricas como argumento.\n",
    "* Verifique todo o conteúdo das duas listas e retorne a mensagem de erro \"wrong number\" caso algum elemento não seja um número\n",
    "* A função deverá retornar a soma dos produtos de elementos de mesmo indice de cada lista\n",
    "* Caso uma das listas tenha mais elementos que a outra, considere 1 para o produto com cada elemento da lista com maior número de elementos\n",
    "* Caso as duas listas estejam vazias, retornar -1."
   ]
  },
  {
   "cell_type": "code",
   "execution_count": 14,
   "metadata": {},
   "outputs": [],
   "source": [
    "def sum_of_products(listOne, listTwo):\n",
    "    \n",
    "    listResult = []\n",
    "    lenOne = len(listOne)\n",
    "    lenTwo = len(listTwo)\n",
    "    invalid_number = False\n",
    "    \n",
    "    # /////////////////////////////////////////////\n",
    "    '''\n",
    "    checks if one of the list is empty\n",
    "    '''\n",
    "    if(lenOne == 0) and (lenTwo == 0):\n",
    "        return -1\n",
    "\n",
    "    # /////////////////////////////////////////////\n",
    "    '''\n",
    "    checks if elements is valid\n",
    "    (listOne)\n",
    "    '''\n",
    "    for count in range(0, lenOne):\n",
    "        if (isinstance(listOne[count], int) == False) and (isinstance(listOne[count], float) == False):\n",
    "            invalid_number = True\n",
    "            break\n",
    "\n",
    "    if invalid_number == True:\n",
    "        return print(\"wrong number\")\n",
    "        #print(\"wrong number \\n\" + str(listOne[count]) + \" is not a valid argument\")\n",
    "\n",
    "    # /////////////////////////////////////////////\n",
    "    '''\n",
    "    checks if elements is valid\n",
    "    (listTwo)\n",
    "    '''\n",
    "    for count in range(0, lenTwo):\n",
    "        if (isinstance(listTwo[count], int) == False) and (isinstance(listTwo[count], float) == False):\n",
    "            invalid_number = True\n",
    "            break\n",
    "\n",
    "    if invalid_number == True:\n",
    "        return print(\"wrong number\")\n",
    "        #print(\"wrong number \\n\" + str(listTwo[count]) + \" is not a valid argument\")\n",
    "\n",
    "    # /////////////////////////////////////////////\n",
    "    '''\n",
    "    checks amount of elements and switch the\n",
    "    one with greater amount into list one\n",
    "    '''\n",
    "    if lenTwo > lenOne:\n",
    "        listOne, listTwo = listTwo, listOne\n",
    "        lenOne, lenTwo = lenTwo, lenOne\n",
    "\n",
    "    greater_amount = lenOne - lenTwo\n",
    "\n",
    "    # /////////////////////////////////////////////\n",
    "    '''\n",
    "    multiplication and sum of numbers\n",
    "    note: do NOT declare variables with same name as methods,\n",
    "    if needed use: del sum\n",
    "    '''\n",
    "\n",
    "    for count in range(0, lenTwo):\n",
    "        listResult.append(listOne[count] * listTwo[count])\n",
    "\n",
    "    total_sum = sum(listResult) + greater_amount\n",
    "    return print(str(total_sum))\n",
    "    \n",
    "    # /////////////////////////////////////////////\n",
    "    # sorry for the huge amount of code :("
   ]
  },
  {
   "cell_type": "code",
   "execution_count": 17,
   "metadata": {},
   "outputs": [
    {
     "name": "stdout",
     "output_type": "stream",
     "text": [
      "72\n"
     ]
    }
   ],
   "source": [
    "listOne = [1,2,3,4]\n",
    "listTwo = [5,6,7,8,7,10]\n",
    "\n",
    "sum_of_products(listOne, listTwo)"
   ]
  },
  {
   "cell_type": "markdown",
   "metadata": {},
   "source": [
    "<hr>"
   ]
  },
  {
   "cell_type": "markdown",
   "metadata": {},
   "source": [
    "## Exercício 3\n",
    "\n",
    "### Supondo que a população de um país A seja da ordem de 90.000.000 habitantes com uma taxa anual de crescimento de 3% ao ano e que a população de um país B seja aproximadamente de 200.000.000 habitantes com uma taxa anual de cresciemento de 1,5% ao ano\n",
    "\n",
    "### Crie uma função que calcule e retorne o número de anos necessários para que a população do país A ultrapasse ou iguale a população do país B, mantidas essas taxas de crescimento.\n"
   ]
  },
  {
   "cell_type": "code",
   "execution_count": 5,
   "metadata": {},
   "outputs": [],
   "source": [
    "def greater_population(population_A, annual_rate_A, population_B, annual_rate_B):\n",
    "\n",
    "    years = 0\n",
    "\n",
    "    while population_A < population_B:\n",
    "        population_A = population_A * annual_rate_A\n",
    "        population_B = population_B * annual_rate_B\n",
    "\n",
    "        years += 1\n",
    "\n",
    "    return print(\"It's gonna take \" + str(years) + \" years until population_A be greater or equal than population_B\")\n",
    "    #print(\"Population_A: \" + str(population_A))\n",
    "    #print(\"Population_B: \" + str(population_B))"
   ]
  },
  {
   "cell_type": "code",
   "execution_count": 9,
   "metadata": {},
   "outputs": [
    {
     "name": "stdout",
     "output_type": "stream",
     "text": [
      "It's gonna take 55 years until population_A be greater or equal than population_B\n"
     ]
    }
   ],
   "source": [
    "population_A = 90000000.0\n",
    "annual_rate_A = 1.03 #(100% + 3% of 100%)\n",
    "\n",
    "population_B = 200000000.0\n",
    "annual_rate_B = 1.015 #(100% + 1,5% of 100%)\n",
    "\n",
    "greater_population(population_A, annual_rate_A, population_B, annual_rate_B)"
   ]
  },
  {
   "cell_type": "markdown",
   "metadata": {},
   "source": [
    "<hr>"
   ]
  },
  {
   "cell_type": "markdown",
   "metadata": {},
   "source": [
    "## Exercício 4\n",
    "\n",
    "### Crie uma função que receberá uma lista de números como argumento.\n",
    "\n",
    "### A função deverá retornar um *dictionary* com as seguintes informações a respeito dos elementos da lista:\n",
    "* **max** - o maior elemento\n",
    "* **sum** - a soma dos elementos\n",
    "* **occurs** - o número de ocorrências do primeiro elemento da lista\n",
    "* **mean** - a média simples dos elementos\n",
    "* **near-mean** - o valor mais próximo da média calculada dos elementos\n",
    "* **minus** - a soma dos elementos com valor negativo"
   ]
  },
  {
   "cell_type": "code",
   "execution_count": 12,
   "metadata": {},
   "outputs": [],
   "source": [
    "def calculations(numbers):\n",
    "\n",
    "    max_number = max(numbers)\n",
    "    total_sum = sum(numbers)\n",
    "    occurs = numbers.count(numbers[0])\n",
    "    lenght = len(numbers)\n",
    "    mean_number = total_sum / lenght\n",
    "    near_mean = min(numbers, key=lambda x:abs(x-mean_number))\n",
    "\n",
    "    sum_negatives = 0\n",
    "    for count in range(0, lenght):\n",
    "        if numbers[count] < 0:\n",
    "            sum_negatives += numbers[count]\n",
    "\n",
    "    dictionaryResult = {\n",
    "        \"max\": max_number,\n",
    "        \"sum\": total_sum,\n",
    "        \"occurs\": occurs,\n",
    "        \"mean_number\": mean_number, \n",
    "        \"near_mean\": near_mean, \n",
    "        \"sum_negatives\": sum_negatives\n",
    "    }\n",
    "    return dictionaryResult"
   ]
  },
  {
   "cell_type": "code",
   "execution_count": 13,
   "metadata": {},
   "outputs": [
    {
     "data": {
      "text/plain": [
       "{'max': 12,\n",
       " 'sum': 21,\n",
       " 'occurs': 3,\n",
       " 'mean_number': 3.5,\n",
       " 'near_mean': 5,\n",
       " 'sum_negatives': -6}"
      ]
     },
     "execution_count": 13,
     "metadata": {},
     "output_type": "execute_result"
    }
   ],
   "source": [
    "numbers = [5,5,-3,5,-3,12]\n",
    "calculations(numbers)"
   ]
  },
  {
   "cell_type": "code",
   "execution_count": null,
   "metadata": {},
   "outputs": [],
   "source": []
  }
 ],
 "metadata": {
  "kernelspec": {
   "display_name": "Python 3",
   "language": "python",
   "name": "python3"
  },
  "language_info": {
   "codemirror_mode": {
    "name": "ipython",
    "version": 3
   },
   "file_extension": ".py",
   "mimetype": "text/x-python",
   "name": "python",
   "nbconvert_exporter": "python",
   "pygments_lexer": "ipython3",
   "version": "3.9.2"
  }
 },
 "nbformat": 4,
 "nbformat_minor": 2
}
