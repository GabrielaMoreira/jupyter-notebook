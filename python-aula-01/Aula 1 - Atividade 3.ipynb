{
 "cells": [
  {
   "cell_type": "markdown",
   "metadata": {},
   "source": [
    "# Aula 1 - Atividade 3\n",
    "\n",
    "## Escreva uma função que receba dois valores inteiros positivos, e retorne a soma da sequencia numérica inteira entre o primeiro e o segundo parâmetros, inclusive"
   ]
  },
  {
   "cell_type": "code",
   "execution_count": 24,
   "metadata": {},
   "outputs": [],
   "source": [
    "def SomaEntreNumeros(arg1, arg2):\n",
    "    result = 0\n",
    "    \n",
    "    if arg1>arg2:\n",
    "        while arg1>=arg2:\n",
    "            result +=  arg1\n",
    "            arg1 -= 1\n",
    "    else:\n",
    "        while arg2>=arg1:\n",
    "            result +=  arg2\n",
    "            arg2 -= 1\n",
    "    \n",
    "    print(\"A soma entre os numeros é: \" + str(result))"
   ]
  },
  {
   "cell_type": "code",
   "execution_count": 12,
   "metadata": {},
   "outputs": [
    {
     "name": "stdout",
     "output_type": "stream",
     "text": [
      "A soma entre os numeros é: 9\n"
     ]
    }
   ],
   "source": [
    "SomaEntreNumeros(4,2)"
   ]
  },
  {
   "cell_type": "code",
   "execution_count": 25,
   "metadata": {},
   "outputs": [],
   "source": [
    "def SomaEntreNumerosResult(arg1, arg2):\n",
    "    sum = 0\n",
    "    \n",
    "    if arg1 > arg2:\n",
    "        arg1, arg2 = arg2, arg1\n",
    "    \n",
    "    for i in range(arg1, arg2 + 1):\n",
    "        sum = sum + i\n",
    "    \n",
    "    return sum"
   ]
  },
  {
   "cell_type": "code",
   "execution_count": 26,
   "metadata": {},
   "outputs": [],
   "source": [
    "assert SomaEntreNumerosResult(2,4) == 9"
   ]
  },
  {
   "cell_type": "code",
   "execution_count": 27,
   "metadata": {},
   "outputs": [],
   "source": [
    "assert SomaEntreNumerosResult(4,2) == 9"
   ]
  },
  {
   "cell_type": "code",
   "execution_count": null,
   "metadata": {},
   "outputs": [],
   "source": []
  }
 ],
 "metadata": {
  "kernelspec": {
   "display_name": "Python 3",
   "language": "python",
   "name": "python3"
  },
  "language_info": {
   "codemirror_mode": {
    "name": "ipython",
    "version": 3
   },
   "file_extension": ".py",
   "mimetype": "text/x-python",
   "name": "python",
   "nbconvert_exporter": "python",
   "pygments_lexer": "ipython3",
   "version": "3.9.2"
  }
 },
 "nbformat": 4,
 "nbformat_minor": 2
}
