{
 "cells": [
  {
   "cell_type": "markdown",
   "id": "monetary-lending",
   "metadata": {},
   "source": [
    "# Aula 1 - Atividade 4\n",
    "\n",
    "## Dado um número inteiro não negativo (n), escreva duas funções sendo a primeira usando estruturas de repetição FOR e a segunda usando estruturas de repetição WHILE, que retornem o fatorial de n (n!)’"
   ]
  },
  {
   "cell_type": "code",
   "execution_count": 22,
   "id": "fifty-gossip",
   "metadata": {},
   "outputs": [],
   "source": [
    "def FotorialWhile(arg1):\n",
    "    arg2 = arg1\n",
    "    result = 1\n",
    "    \n",
    "    while arg1 > 0:      \n",
    "        result = (result * arg1)   \n",
    "        arg1 -= 1\n",
    "\n",
    "    print(\"Fatorial de \" + str(arg2) + \" igual \" + str(result))"
   ]
  },
  {
   "cell_type": "code",
   "execution_count": 23,
   "id": "collect-figure",
   "metadata": {},
   "outputs": [
    {
     "name": "stdout",
     "output_type": "stream",
     "text": [
      "Fatorial de 5 igual 120\n"
     ]
    }
   ],
   "source": [
    "FotorialWhile(5)"
   ]
  },
  {
   "cell_type": "code",
   "execution_count": 24,
   "id": "prerequisite-validation",
   "metadata": {},
   "outputs": [],
   "source": [
    "def FotorialFor(arg1):\n",
    "    result =1\n",
    "    \n",
    "    for i in range(1,arg1+1):\n",
    "        result = result * i\n",
    "\n",
    "    print(\"Fatorial de \" + str(arg1) + \" igual \" + str(result))"
   ]
  },
  {
   "cell_type": "code",
   "execution_count": 25,
   "id": "northern-sculpture",
   "metadata": {},
   "outputs": [
    {
     "name": "stdout",
     "output_type": "stream",
     "text": [
      "Fatorial de 5 igual 120\n"
     ]
    }
   ],
   "source": [
    "FotorialFor(5)"
   ]
  },
  {
   "cell_type": "code",
   "execution_count": null,
   "id": "amazing-overall",
   "metadata": {},
   "outputs": [],
   "source": []
  }
 ],
 "metadata": {
  "kernelspec": {
   "display_name": "Python 3",
   "language": "python",
   "name": "python3"
  },
  "language_info": {
   "codemirror_mode": {
    "name": "ipython",
    "version": 3
   },
   "file_extension": ".py",
   "mimetype": "text/x-python",
   "name": "python",
   "nbconvert_exporter": "python",
   "pygments_lexer": "ipython3",
   "version": "3.9.2"
  }
 },
 "nbformat": 4,
 "nbformat_minor": 5
}
